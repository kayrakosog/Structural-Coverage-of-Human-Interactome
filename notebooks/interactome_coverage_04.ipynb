{
 "cells": [
  {
   "cell_type": "code",
   "execution_count": 2,
   "id": "f39a92e5-a299-4547-aff5-7fb56246a0d5",
   "metadata": {},
   "outputs": [],
   "source": [
    "from interactome_funcs import *"
   ]
  },
  {
   "cell_type": "code",
   "execution_count": 3,
   "id": "14270af9-4cc1-4de6-bbd0-f2a0ad3406eb",
   "metadata": {},
   "outputs": [
    {
     "name": "stderr",
     "output_type": "stream",
     "text": [
      "/home/zeynep/anaconda3/lib/python3.8/site-packages/IPython/core/interactiveshell.py:3165: DtypeWarning: Columns (10,11) have mixed types.Specify dtype option on import or set low_memory=False.\n",
      "  has_raised = await self.run_ast_nodes(code_ast.body, cell_name,\n"
     ]
    }
   ],
   "source": [
    "# reviewed homo sapiens proteome from UniProt 2022_04\n",
    "# this dataset is filtered according to certain thresholds\n",
    "proteome = pd.read_excel(\"processed_data/uniprot/30aa_nounchar_noputative_ref_proteome_protein_existence_filtered_02.xlsx\", header=0)\n",
    "# filtered pdb structures for uniprot entries\n",
    "pdb = pd.read_csv(\"processed_data/uniprot/proteome_have_pdb_begin_end_missing_consec_greater_30pdb.csv\")\n",
    "# filtered homology modeling datasets, using all data\n",
    "modbase = pd.read_csv('processed_data/modbase/modbase_30aa_hq.tsv', sep='\\t')\n",
    "modbase = modbase.rename(columns={'UniprotID': 'Entry'})\n",
    "swissmodel = pd.read_csv('processed_data/swissmodel/swissmodel_30aa_hq.tsv', sep='\\t')\n",
    "swissmodel = swissmodel.rename(columns={'UniProtKB_ac': 'Entry'})\n",
    "# filtered alphafold structures\n",
    "af_85 = pd.read_excel('processed_data/alphafold/all_af_acc_85.xlsx')\n",
    "af_85 = af_85[af_85['Situation'] == 'Yes']"
   ]
  },
  {
   "cell_type": "code",
   "execution_count": 4,
   "id": "be92b9b3-8cc3-4b8c-a44a-3c76e5a1f7b4",
   "metadata": {},
   "outputs": [],
   "source": [
    "# interactome databases\n",
    "huri = pd.read_excel('processed_data/interactomes/huri/huri_final.xlsx')\n",
    "string = pd.read_excel('processed_data/interactomes/string/string_high_conf_final.xlsx')\n",
    "bioplex = pd.read_excel('processed_data/interactomes/bioplex/bioplex_293t_final.xlsx')\n",
    "hippie = pd.read_excel('processed_data/interactomes/hippie/hippie_binary_hq_final.xlsx')\n",
    "apid = pd.read_excel('processed_data/interactomes/apid/apid_final.xlsx')\n",
    "pickle = pd.read_excel('processed_data/interactomes/pickle/pickle_final.xlsx')\n",
    "biogrid = pd.read_csv('processed_data/interactomes/biogrid/biogrid_final.tsv', sep='\\t')\n",
    "iid = pd.read_csv('processed_data/interactomes/iid/iid_exp_final.tsv', sep='\\t')"
   ]
  },
  {
   "cell_type": "markdown",
   "id": "6cd04fa4-0546-4d9f-9e84-ba940426c3d6",
   "metadata": {},
   "source": [
    "# Coverage of human interactome databases\n",
    "\n",
    "In this part, we use all available HQ models from homology databases.\n",
    "\n",
    "Order of the results: num of proteins, num of interactions where both sides have structures"
   ]
  },
  {
   "cell_type": "markdown",
   "id": "4da1f078-feea-4987-ba8b-bb6ce2750792",
   "metadata": {},
   "source": [
    "## HuRI"
   ]
  },
  {
   "cell_type": "code",
   "execution_count": 5,
   "id": "e94c4a68-91ed-437c-8cc6-e13efa597eed",
   "metadata": {},
   "outputs": [
    {
     "name": "stdout",
     "output_type": "stream",
     "text": [
      "Total number of interactions: (48763, 48763, 48763)\n",
      "Total number of proteins: (7889,)\n",
      "PDB: (3317, 7046)\n",
      "SWISS-MODEL: (3414, 7014)\n",
      "ModBase: (3729, 8938)\n",
      "AlphaFold (85% higher than 70%): (2026, 2737)\n"
     ]
    }
   ],
   "source": [
    "print(f\"Total number of interactions: {len(huri), len(huri.dropna()), len(remove_duplicates(huri))}\") # sanity check\n",
    "print(f\"Total number of proteins: {np.unique(huri[['protein1_uniprot', 'protein2_uniprot']].to_numpy().flatten()).shape}\")\n",
    "print(f\"PDB: {get_coverage(huri, pdb)}\")\n",
    "print(f\"SWISS-MODEL: {get_coverage(huri, swissmodel)}\")\n",
    "print(f\"ModBase: {get_coverage(huri, modbase)}\")\n",
    "print(f\"AlphaFold (85% higher than 70%): {get_coverage(huri, af_85)}\")"
   ]
  },
  {
   "cell_type": "markdown",
   "id": "fa5fb6b2-22f1-4482-ba83-358bf459bd4c",
   "metadata": {},
   "source": [
    "## BioPlex"
   ]
  },
  {
   "cell_type": "code",
   "execution_count": 7,
   "id": "228db07d-5586-43c6-a580-899c69b48fcc",
   "metadata": {},
   "outputs": [
    {
     "name": "stdout",
     "output_type": "stream",
     "text": [
      "Total number of interactions: (53136, 53136, 53136)\n",
      "Total number of proteins: (8806,)\n",
      "PDB: (3888, 14036)\n",
      "SWISS-MODEL: (4242, 13945)\n",
      "ModBase: (4615, 15162)\n",
      "AlphaFold (85% higher than 70%): (2819, 5802)\n"
     ]
    }
   ],
   "source": [
    "print(f\"Total number of interactions: {len(bioplex), len(bioplex.dropna()), len(remove_duplicates(bioplex))}\") # sanity check\n",
    "print(f\"Total number of proteins: {np.unique(bioplex[['protein1_uniprot', 'protein2_uniprot']].to_numpy().flatten()).shape}\")\n",
    "print(f\"PDB: {get_coverage(bioplex, pdb)}\")\n",
    "print(f\"SWISS-MODEL: {get_coverage(bioplex, swissmodel)}\")\n",
    "print(f\"ModBase: {get_coverage(bioplex, modbase)}\")\n",
    "print(f\"AlphaFold (85% higher than 70%): {get_coverage(bioplex, af_85)}\")"
   ]
  },
  {
   "cell_type": "markdown",
   "id": "581b6db3-2be3-451d-a644-54e80445de7f",
   "metadata": {},
   "source": [
    "## STRING"
   ]
  },
  {
   "cell_type": "code",
   "execution_count": 6,
   "id": "933ba44d-2e26-4c4e-a842-d8fb8fc345fc",
   "metadata": {},
   "outputs": [
    {
     "name": "stdout",
     "output_type": "stream",
     "text": [
      "Total number of interactions: (57192, 57192, 57192)\n",
      "Total number of proteins: (7327,)\n",
      "PDB: (4518, 38005)\n",
      "SWISS-MODEL: (4214, 24829)\n",
      "ModBase: (4095, 21442)\n",
      "AlphaFold (85% higher than 70%): (2085, 9941)\n"
     ]
    }
   ],
   "source": [
    "print(f\"Total number of interactions: {len(string), len(string.dropna()), len(remove_duplicates(string))}\") # sanity check\n",
    "print(f\"Total number of proteins: {np.unique(string[['protein1_uniprot', 'protein2_uniprot']].to_numpy().flatten()).shape}\")\n",
    "print(f\"PDB: {get_coverage(string, pdb)}\")\n",
    "print(f\"SWISS-MODEL: {get_coverage(string, swissmodel)}\")\n",
    "print(f\"ModBase: {get_coverage(string, modbase)}\")\n",
    "print(f\"AlphaFold (85% higher than 70%): {get_coverage(string, af_85)}\")"
   ]
  },
  {
   "cell_type": "markdown",
   "id": "824a2c45-909a-4f3b-9243-bb23ff590a86",
   "metadata": {},
   "source": [
    "## HIPPIE"
   ]
  },
  {
   "cell_type": "code",
   "execution_count": 8,
   "id": "86167a85-eaf0-4a38-8470-cb0af3e5874c",
   "metadata": {},
   "outputs": [
    {
     "name": "stdout",
     "output_type": "stream",
     "text": [
      "Total number of interactions: (22280, 22280, 22280)\n",
      "Total number of proteins: (7640,)\n",
      "PDB: (4164, 10193)\n",
      "SWISS-MODEL: (3971, 7795)\n",
      "ModBase: (4231, 8412)\n",
      "AlphaFold (85% higher than 70%): (1910, 1586)\n"
     ]
    }
   ],
   "source": [
    "print(f\"Total number of interactions: {len(hippie), len(hippie.dropna()), len(remove_duplicates(hippie))}\") # sanity check\n",
    "print(f\"Total number of proteins: {np.unique(hippie[['protein1_uniprot', 'protein2_uniprot']].to_numpy().flatten()).shape}\")\n",
    "print(f\"PDB: {get_coverage(hippie, pdb)}\")\n",
    "print(f\"SWISS-MODEL: {get_coverage(hippie, swissmodel)}\")\n",
    "print(f\"ModBase: {get_coverage(hippie, modbase)}\")\n",
    "print(f\"AlphaFold (85% higher than 70%): {get_coverage(hippie, af_85)}\")"
   ]
  },
  {
   "cell_type": "markdown",
   "id": "4285e4f8-3861-479c-82e8-f949d99bb17a",
   "metadata": {},
   "source": [
    "## APID"
   ]
  },
  {
   "cell_type": "code",
   "execution_count": 10,
   "id": "6e99f3ed-99e8-4027-85da-890bea4e027e",
   "metadata": {},
   "outputs": [
    {
     "name": "stdout",
     "output_type": "stream",
     "text": [
      "Total number of interactions: (125722, 125722, 125722)\n",
      "Total number of proteins: (14854,)\n",
      "PDB: (6508, 39922)\n",
      "SWISS-MODEL: (6774, 32453)\n",
      "ModBase: (7236, 36390)\n",
      "AlphaFold (85% higher than 70%): (3897, 8394)\n"
     ]
    }
   ],
   "source": [
    "print(f\"Total number of interactions: {len(apid), len(apid.dropna()), len(remove_duplicates(apid, int_dtb_ids=['UniprotID_A', 'UniprotID_B']))}\") # sanity check\n",
    "print(f\"Total number of proteins: {np.unique(apid[['UniprotID_A', 'UniprotID_B']].to_numpy().flatten()).shape}\")\n",
    "print(f\"PDB: {get_coverage(apid, pdb, int_dtb_ids=['UniprotID_A', 'UniprotID_B'])}\")\n",
    "print(f\"SWISS-MODEL: {get_coverage(apid, swissmodel, int_dtb_ids=['UniprotID_A', 'UniprotID_B'])}\")\n",
    "print(f\"ModBase: {get_coverage(apid, modbase, int_dtb_ids=['UniprotID_A', 'UniprotID_B'])}\")\n",
    "print(f\"AlphaFold (85% higher than 70%): {get_coverage(apid, af_85, int_dtb_ids=['UniprotID_A', 'UniprotID_B'])}\")"
   ]
  },
  {
   "cell_type": "markdown",
   "id": "6f68d109-e300-4229-a56e-c2ab7553f044",
   "metadata": {},
   "source": [
    "## PICKLE"
   ]
  },
  {
   "cell_type": "code",
   "execution_count": 11,
   "id": "baadc76c-30fd-403b-b40f-c18eee763991",
   "metadata": {},
   "outputs": [
    {
     "name": "stdout",
     "output_type": "stream",
     "text": [
      "Total number of interactions: (211943, 211943, 211943)\n",
      "Total number of proteins: (15922,)\n",
      "PDB: (6852, 88408)\n",
      "SWISS-MODEL: (7213, 68328)\n",
      "ModBase: (7719, 71761)\n",
      "AlphaFold (85% higher than 70%): (4191, 14794)\n"
     ]
    }
   ],
   "source": [
    "print(f\"Total number of interactions: {len(pickle), len(pickle.dropna()), len(remove_duplicates(pickle, int_dtb_ids=['InteractorA', 'InteractorB']))}\") # sanity check\n",
    "print(f\"Total number of proteins: {np.unique(pickle[['InteractorA', 'InteractorB']].to_numpy().flatten()).shape}\")\n",
    "print(f\"PDB: {get_coverage(pickle, pdb, int_dtb_ids=['InteractorA', 'InteractorB'])}\")\n",
    "print(f\"SWISS-MODEL: {get_coverage(pickle, swissmodel, int_dtb_ids=['InteractorA', 'InteractorB'])}\")\n",
    "print(f\"ModBase: {get_coverage(pickle, modbase, int_dtb_ids=['InteractorA', 'InteractorB'])}\")\n",
    "print(f\"AlphaFold (85% higher than 70%): {get_coverage(pickle, af_85, int_dtb_ids=['InteractorA', 'InteractorB'])}\")"
   ]
  },
  {
   "cell_type": "markdown",
   "id": "3c842b79-dc92-438e-b816-49bfc444a4f1",
   "metadata": {},
   "source": [
    "## BioGRID"
   ]
  },
  {
   "cell_type": "code",
   "execution_count": 12,
   "id": "e2f29a0b-8926-40c8-b5cc-06c08fc9162a",
   "metadata": {},
   "outputs": [
    {
     "name": "stdout",
     "output_type": "stream",
     "text": [
      "Total number of interactions: (719566, 719566, 719566)\n",
      "Total number of proteins: (17100,)\n",
      "PDB: (6914, 292081)\n",
      "SWISS-MODEL: (7499, 233361)\n",
      "ModBase: (8174, 239226)\n",
      "AlphaFold (85% higher than 70%): (4587, 70455)\n"
     ]
    }
   ],
   "source": [
    "print(f\"Total number of interactions: {len(biogrid), len(biogrid.dropna()), len(remove_duplicates(biogrid, int_dtb_ids=['SWISS-PROT Accessions Interactor A', 'SWISS-PROT Accessions Interactor B']))}\") # sanity check\n",
    "print(f\"Total number of proteins: {np.unique(biogrid[['SWISS-PROT Accessions Interactor A', 'SWISS-PROT Accessions Interactor B']].to_numpy().flatten()).shape}\")\n",
    "print(f\"PDB: {get_coverage(biogrid, pdb, int_dtb_ids=['SWISS-PROT Accessions Interactor A', 'SWISS-PROT Accessions Interactor B'])}\")\n",
    "print(f\"SWISS-MODEL: {get_coverage(biogrid, swissmodel, int_dtb_ids=['SWISS-PROT Accessions Interactor A', 'SWISS-PROT Accessions Interactor B'])}\")\n",
    "print(f\"ModBase: {get_coverage(biogrid, modbase, int_dtb_ids=['SWISS-PROT Accessions Interactor A', 'SWISS-PROT Accessions Interactor B'])}\")\n",
    "print(f\"AlphaFold (85% higher than 70%): {get_coverage(biogrid, af_85, int_dtb_ids=['SWISS-PROT Accessions Interactor A', 'SWISS-PROT Accessions Interactor B'])}\")"
   ]
  },
  {
   "cell_type": "markdown",
   "id": "1d0770d2-1ea8-4507-948f-c4170a0766af",
   "metadata": {},
   "source": [
    "## IID"
   ]
  },
  {
   "cell_type": "code",
   "execution_count": 13,
   "id": "d4a3c836",
   "metadata": {},
   "outputs": [
    {
     "name": "stdout",
     "output_type": "stream",
     "text": [
      "Total number of interactions: (542157, 542157, 542157)\n",
      "Total number of proteins: (17331,)\n",
      "PDB: (7015, 235632)\n",
      "SWISS-MODEL: (7636, 181337)\n",
      "ModBase: (8250, 185030)\n",
      "AlphaFold (85% higher than 70%): (4600, 53251)\n"
     ]
    }
   ],
   "source": [
    "print(f\"Total number of interactions: {len(iid), len(iid.dropna()), len(remove_duplicates(iid, int_dtb_ids=['uniprot1', 'uniprot2']))}\") # sanity check\n",
    "print(f\"Total number of proteins: {np.unique(iid[['uniprot1', 'uniprot2']].to_numpy().flatten()).shape}\")\n",
    "print(f\"PDB: {get_coverage(iid, pdb, int_dtb_ids=['uniprot1', 'uniprot2'])}\")\n",
    "print(f\"SWISS-MODEL: {get_coverage(iid, swissmodel, int_dtb_ids=['uniprot1', 'uniprot2'])}\")\n",
    "print(f\"ModBase: {get_coverage(iid, modbase, int_dtb_ids=['uniprot1', 'uniprot2'])}\")\n",
    "print(f\"AlphaFold (85% higher than 70%): {get_coverage(iid, af_85, int_dtb_ids=['uniprot1', 'uniprot2'])}\")"
   ]
  }
 ],
 "metadata": {
  "kernelspec": {
   "display_name": "Python 3",
   "language": "python",
   "name": "python3"
  },
  "language_info": {
   "codemirror_mode": {
    "name": "ipython",
    "version": 3
   },
   "file_extension": ".py",
   "mimetype": "text/x-python",
   "name": "python",
   "nbconvert_exporter": "python",
   "pygments_lexer": "ipython3",
   "version": "3.8.8"
  }
 },
 "nbformat": 4,
 "nbformat_minor": 5
}
