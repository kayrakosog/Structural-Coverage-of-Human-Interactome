{
 "cells": [
  {
   "cell_type": "code",
   "execution_count": 6,
   "id": "93ef3aca-08b0-4a13-9d10-6e4181004fc5",
   "metadata": {},
   "outputs": [],
   "source": [
    "%load_ext autoreload\n",
    "%autoreload 2\n",
    "from interactome_funcs import *\n",
    "import matplotlib.pyplot as plt\n",
    "import matplotlib.image as img"
   ]
  },
  {
   "cell_type": "code",
   "execution_count": null,
   "id": "9fa84293-0fd3-4b71-a90b-9443f51291d6",
   "metadata": {},
   "outputs": [
    {
     "name": "stderr",
     "output_type": "stream",
     "text": [
      "/home/zeynep/anaconda3/lib/python3.8/site-packages/IPython/core/interactiveshell.py:3165: DtypeWarning: Columns (10,11) have mixed types.Specify dtype option on import or set low_memory=False.\n",
      "  has_raised = await self.run_ast_nodes(code_ast.body, cell_name,\n"
     ]
    }
   ],
   "source": [
    "# reviewed homo sapiens proteome from UniProt 2022_04\n",
    "# this dataset is filtered according to certain thresholds\n",
    "proteome = pd.read_excel(\"processed_data/uniprot/30aa_nounchar_noputative_ref_proteome_protein_existence_filtered_02.xlsx\", header=0)\n",
    "# filtered pdb structures for uniprot entries\n",
    "pdb = pd.read_csv(\"processed_data/uniprot/proteome_have_pdb_begin_end_missing_consec_greater_30pdb.csv\")\n",
    "# filtered homology modeling datasets, all data\n",
    "modbase = pd.read_csv('processed_data/modbase/modbase_30aa_hq_fixed.tsv', sep='\\t')\n",
    "modbase = modbase.rename(columns={'UniprotID': 'Entry'})\n",
    "swissmodel = pd.read_csv('processed_data/swissmodel/swissmodel_30aa_hq.tsv', sep='\\t')\n",
    "swissmodel = swissmodel.rename(columns={'UniProtKB_ac': 'Entry'})\n",
    "# filtered homology modeling datasets, extra to PDB\n",
    "modbase_extra = pd.read_excel('processed_data/modbase/modbase_30aa_hq_fixed_extra_to_pdb.xlsx')\n",
    "swissmodel_extra = pd.read_excel('processed_data/swissmodel/swissmodel_30aa_hq_extra_to_pdb.xlsx')\n",
    "# filtered alphafold structures\n",
    "af_85 = pd.read_excel('processed_data/alphafold/all_af_acc_85.xlsx')\n",
    "af_85 = af_85[af_85['Situation'] == 'Yes']"
   ]
  },
  {
   "cell_type": "code",
   "execution_count": 20,
   "id": "f4c3bd5b-48bd-4b52-98f4-2040eef66c6f",
   "metadata": {},
   "outputs": [],
   "source": [
    "# interactome databases\n",
    "huri = pd.read_excel('processed_data/interactomes/huri/huri_final.xlsx')\n",
    "string = pd.read_excel('processed_data/interactomes/string/string_high_conf_final.xlsx')\n",
    "bioplex = pd.read_excel('processed_data/interactomes/bioplex/bioplex_293t_final.xlsx')\n",
    "hippie = pd.read_excel('processed_data/interactomes/hippie/hippie_binary_hq_final.xlsx')"
   ]
  },
  {
   "cell_type": "markdown",
   "id": "e2de2d96-9e71-4fcf-ad56-da84189afe75",
   "metadata": {},
   "source": [
    "# INTERACTOME PART"
   ]
  },
  {
   "cell_type": "markdown",
   "id": "a0a76b28-de44-4677-9aef-584b4dc4f904",
   "metadata": {},
   "source": [
    "## Main UpSet Plots"
   ]
  },
  {
   "cell_type": "code",
   "execution_count": 21,
   "id": "5ae49333-30a9-425e-a91b-78a16be019f0",
   "metadata": {},
   "outputs": [],
   "source": [
    "huri_upset = get_ready_for_upset(huri, df_name='HuRI')\n",
    "bioplex_upset = get_ready_for_upset(bioplex, df_name='BioPlex')\n",
    "string_upset = get_ready_for_upset(string, df_name='STRING')\n",
    "hippie_upset = get_ready_for_upset(hippie, df_name='HIPPIE')"
   ]
  },
  {
   "cell_type": "code",
   "execution_count": 24,
   "id": "a5fbae34-0eea-4bb4-93f5-8d1509de6b8c",
   "metadata": {},
   "outputs": [],
   "source": [
    "upset_all_raw = string_upset.merge(bioplex_upset, how='outer').merge(huri_upset, how='outer').merge(hippie_upset, how='outer')\n",
    "upset_all_raw = upset_all_raw.fillna(0)\n",
    "upset_all_raw.to_excel('processed_data/interactomes/upset_ready/upset_all_raw.xlsx', index=False)"
   ]
  },
  {
   "cell_type": "markdown",
   "id": "4f11ccec-d1ac-41f9-9f86-2bd9cafdf9fc",
   "metadata": {},
   "source": [
    "## PDB Coverage of Both Sides of the Interactions"
   ]
  },
  {
   "cell_type": "code",
   "execution_count": 25,
   "id": "e7cc9a7d-9fa9-4d7b-a75b-c9ee892cfc70",
   "metadata": {},
   "outputs": [],
   "source": [
    "huri_pdb_upset = get_ready_for_upset_str(huri, pdb, df_name='HuRI -PDB-')\n",
    "bioplex_pdb_upset = get_ready_for_upset_str(bioplex, pdb, df_name='BioPlex -PDB-')\n",
    "string_pdb_upset = get_ready_for_upset_str(string, pdb, df_name='STRING -PDB-') \n",
    "hippie_pdb_upset = get_ready_for_upset_str(hippie, pdb, df_name='HIPPIE -PDB-')"
   ]
  },
  {
   "cell_type": "code",
   "execution_count": 26,
   "id": "9525f6bf-ef4d-4816-bd6f-cbbfacba2907",
   "metadata": {},
   "outputs": [],
   "source": [
    "upset_pdb = string_pdb_upset.merge(bioplex_pdb_upset, how='outer').merge(huri_pdb_upset, how='outer').merge(hippie_pdb_upset, how='outer')\n",
    "upset_pdb = upset_pdb.fillna(0)\n",
    "upset_pdb.to_excel('processed_data/interactomes/upset_ready/upset_pdb.xlsx', index=False)"
   ]
  },
  {
   "cell_type": "markdown",
   "id": "e44976f5-e76d-4ec8-b687-36cd4b0111a0",
   "metadata": {},
   "source": [
    "## Homology Modeling Dtbs Coverage of Both Sides of the Interactions"
   ]
  },
  {
   "cell_type": "code",
   "execution_count": 27,
   "id": "0b092c4c-e57d-4d92-adca-5bb9642c403f",
   "metadata": {},
   "outputs": [],
   "source": [
    "homology = modbase.merge(swissmodel, on='Entry', how='outer')\n",
    "huri_homology = get_ready_for_upset_str(huri, homology, df_name='HuRI -HM-')\n",
    "bioplex_homology = get_ready_for_upset_str(bioplex, homology, df_name='BioPlex -HM-') \n",
    "string_homology = get_ready_for_upset_str(string, homology, df_name='STRING -HM-')\n",
    "hippie_homology = get_ready_for_upset_str(hippie, homology, df_name='HIPPIE -HM-')"
   ]
  },
  {
   "cell_type": "code",
   "execution_count": 28,
   "id": "6f35fdad-4feb-4002-98a6-920af4f901b8",
   "metadata": {},
   "outputs": [],
   "source": [
    "upset_homology = string_homology.merge(bioplex_homology, how='outer').merge(huri_homology, how='outer').merge(hippie_homology, how='outer')\n",
    "upset_homology = upset_homology.fillna(0)\n",
    "upset_homology.to_excel('processed_data/interactomes/upset_ready/upset_homology.xlsx', index=False)"
   ]
  },
  {
   "cell_type": "markdown",
   "id": "a9ea7452-9f60-45a9-8976-9445e18d6c9c",
   "metadata": {},
   "source": [
    "## AlphaFold Coverage of Both Sides of the Interactions"
   ]
  },
  {
   "cell_type": "code",
   "execution_count": 29,
   "id": "23cde1e0-6d47-4901-b276-063b86eb3206",
   "metadata": {},
   "outputs": [],
   "source": [
    "huri_af_85 = get_ready_for_upset_str(huri, af_85, df_name='HuRI -AF-')\n",
    "bioplex_af_85 = get_ready_for_upset_str(bioplex, af_85, df_name='BioPlex -AF-') \n",
    "string_af_85 = get_ready_for_upset_str(string, af_85, df_name='STRING -AF-')\n",
    "hippie_af_85 = get_ready_for_upset_str(hippie, af_85, df_name='HIPPIE -AF-')"
   ]
  },
  {
   "cell_type": "code",
   "execution_count": 30,
   "id": "dfa168f4-51ba-4a6f-ada0-fa4c23c3fec2",
   "metadata": {},
   "outputs": [],
   "source": [
    "upset_af_85 = string_af_85.merge(bioplex_af_85, how='outer').merge(huri_af_85, how='outer').merge(hippie_af_85, how='outer')\n",
    "upset_af_85 = upset_af_85.fillna(0)\n",
    "upset_af_85.to_excel('processed_data/interactomes/upset_ready/upset_af_85.xlsx', index=False)"
   ]
  },
  {
   "cell_type": "markdown",
   "id": "59cb6522-8bca-4e15-afed-3805d9450672",
   "metadata": {},
   "source": [
    "# PROTEOME PART"
   ]
  },
  {
   "cell_type": "code",
   "execution_count": 31,
   "id": "b92fccce-63dd-486c-b0a3-7b91218b90f3",
   "metadata": {},
   "outputs": [],
   "source": [
    "pdb_upset = get_ready_for_upset_proteome(pdb, df_name='PDB')\n",
    "mb_upset = get_ready_for_upset_proteome(modbase, df_name='ModBase')\n",
    "sm_upset = get_ready_for_upset_proteome(swissmodel, df_name='SWISS-MODEL')\n",
    "af85_upset = get_ready_for_upset_proteome(af_85, df_name='AlphaFold')"
   ]
  },
  {
   "cell_type": "code",
   "execution_count": 32,
   "id": "357cd3b9-0261-4d14-827e-dbe877bdfd22",
   "metadata": {},
   "outputs": [],
   "source": [
    "upset_proteome = pdb_upset.merge(mb_upset, how='outer').merge(sm_upset, how='outer').merge(af85_upset, how='outer')\n",
    "upset_proteome = upset_proteome.fillna(0)\n",
    "upset_proteome.to_excel('processed_data/upset_proteome.xlsx', index=False)"
   ]
  }
 ],
 "metadata": {
  "kernelspec": {
   "display_name": "Python 3",
   "language": "python",
   "name": "python3"
  },
  "language_info": {
   "codemirror_mode": {
    "name": "ipython",
    "version": 3
   },
   "file_extension": ".py",
   "mimetype": "text/x-python",
   "name": "python",
   "nbconvert_exporter": "python",
   "pygments_lexer": "ipython3",
   "version": "3.8.8"
  }
 },
 "nbformat": 4,
 "nbformat_minor": 5
}
