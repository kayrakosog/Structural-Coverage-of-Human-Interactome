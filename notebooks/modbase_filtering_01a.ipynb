{
 "cells": [
  {
   "cell_type": "code",
   "execution_count": 1,
   "id": "1bb4a1af-0da1-4f85-9a02-013b1961aca7",
   "metadata": {},
   "outputs": [],
   "source": [
    "import ast\n",
    "import glob\n",
    "import numpy as np\n",
    "import pandas as pd\n",
    "from coverage_functions import *"
   ]
  },
  {
   "cell_type": "markdown",
   "id": "1cbc63e0-2c41-49b1-a44b-e2be6f06741e",
   "metadata": {},
   "source": [
    "# ModBase\n",
    "## Filtering data according to reference proteome & model quality"
   ]
  },
  {
   "cell_type": "code",
   "execution_count": 3,
   "id": "4b54caca-c605-43b7-9a91-55b2b1f877f8",
   "metadata": {},
   "outputs": [
    {
     "data": {
      "text/plain": [
       "18401"
      ]
     },
     "execution_count": 3,
     "metadata": {},
     "output_type": "execute_result"
    }
   ],
   "source": [
    "# reviewed homo sapiens proteome from UniProt 2022_04\n",
    "# this dataset is filtered according to certain thresholds\n",
    "proteome = pd.read_excel(\"processed_data/uniprot/30aa_nounchar_noputative_ref_proteome_protein_existence_filtered_02.xlsx\", header=0)\n",
    "len(proteome)"
   ]
  },
  {
   "cell_type": "code",
   "execution_count": 4,
   "id": "380fd2b2-4258-4c4b-9912-035ef7e07d0c",
   "metadata": {},
   "outputs": [],
   "source": [
    "# ModBase file is too big to load into memory (108070195 lines). Chunking first.\n",
    "# i=0\n",
    "# for df in pd.read_csv(\"raw_data/modbase/modbase_models_all-latest\", chunksize=5000000):\n",
    "#     df.to_csv('raw_data/modbase/modbase_models_all-latest_chunked/file_{:02d}.xlsx'.format(i), index=False)\n",
    "#     i += 1"
   ]
  },
  {
   "cell_type": "code",
   "execution_count": 4,
   "id": "f1bd4744-18db-4fff-9ae1-6f23f4a50fa3",
   "metadata": {},
   "outputs": [],
   "source": [
    "# filter wrt proteome\n",
    "def compare_with_uniprot(file):\n",
    "    file = file.assign(in_uniprot=file.UniprotID.isin(proteome.Entry))\n",
    "    return file[file.in_uniprot == True]\n",
    "\n",
    "# filter by quality and length\n",
    "def filter_modbase(file):\n",
    "    # >= 30 aa models\n",
    "    file = file[file['TargetEnd'] - file['TargetBeg'] + 1 >= 30]\n",
    "    \n",
    "    # get high quality models\n",
    "    # quality thresholds are taken from Interactome3D paper\n",
    "    # if available, filter according to MPQS.\n",
    "    file1 = file[file[\"ModPipeQualityScore\"] >= 1.1] \n",
    "    \n",
    "    # if MPQS is not available, filter wrt Sequence Identity AND Model Score\n",
    "    file2 = file[file.ModPipeQualityScore.isnull()] \n",
    "    file2 = file2[(file2[\"SeqIdentity\"] >= 30) & (file2[\"ModelScore\"] >= 0.7)] \n",
    "    file3 = pd.merge(file1, file2, how=\"outer\")\n",
    "    \n",
    "    # duplicate filtering, keep the highest scores. \n",
    "    filtered_file = file3.sort_values(by=['ModPipeQualityScore', 'SeqIdentity' , 'ModelScore']).drop_duplicates(subset=[\"UniprotID\", \"TargetBeg\", \"TargetEnd\"], keep=\"last\")\n",
    "\n",
    "    return filtered_file"
   ]
  },
  {
   "cell_type": "code",
   "execution_count": 18,
   "id": "de2e1a23-0f32-4f5a-abb2-0986f88f9eb4",
   "metadata": {},
   "outputs": [],
   "source": [
    "# read all files and filter wrt proteome\n",
    "modbase_files = glob.glob(\"raw_data/modbase/modbase_models_all-latest_chunked/*.xlsx\")\n",
    "\n",
    "for f in modbase_files:\n",
    "    file = pd.read_csv(f, delimiter = \"\\t\", dtype={'PDBBegin': 'object','PDBEnd': 'object'}) # for unicode errors\n",
    "    in_proteome = compare_with_uniprot(file)\n",
    "    in_proteome.to_csv(\"processed_data/modbase/filtered_proteome/modbase_\" + f.split(\"/\")[-1].split(\".\")[0] + \".tsv\", sep=\"\\t\", index=False)"
   ]
  },
  {
   "cell_type": "code",
   "execution_count": 5,
   "id": "20c07931-3a0b-47d8-aa02-6fefd9bdff54",
   "metadata": {},
   "outputs": [
    {
     "name": "stdout",
     "output_type": "stream",
     "text": [
      "400096\n"
     ]
    }
   ],
   "source": [
    "# read all files and concatanate\n",
    "folder = 'processed_data/modbase/filtered_proteome'\n",
    "modbase_proteome = pd.concat([pd.read_csv(f, sep='\\t', dtype={'PDBBegin': 'object','PDBEnd': 'object'}) for f in glob.glob(folder + \"/*.tsv\")], ignore_index=True)\n",
    "print(len(modbase_proteome)) # 400096"
   ]
  },
  {
   "cell_type": "code",
   "execution_count": 6,
   "id": "8aaceaa2-bce9-49be-a37f-d617c4ad9af1",
   "metadata": {},
   "outputs": [
    {
     "data": {
      "text/plain": [
       "35921"
      ]
     },
     "execution_count": 6,
     "metadata": {},
     "output_type": "execute_result"
    }
   ],
   "source": [
    "modbase_30aa_hq = filter_modbase(modbase_proteome) # 35921\n",
    "modbase_30aa_hq.to_csv(\"processed_data/modbase/modbase_30aa_hq.tsv\", sep=\"\\t\", index=False)\n",
    "len(modbase_30aa_hq)"
   ]
  },
  {
   "cell_type": "markdown",
   "id": "5c3dfae7-1bef-4877-a1e0-d7be86bcb31e",
   "metadata": {},
   "source": [
    "## Coverage Calculation & Correction"
   ]
  },
  {
   "cell_type": "markdown",
   "id": "7f3ed386-8a2a-4bc3-8d48-9d6d1cdc43da",
   "metadata": {},
   "source": [
    "Coverage of some proteins are higher than 100. Lengths of the proteins are incorrect in ModBase, resulting in incorrect residue ranges in models. We need to delete those models."
   ]
  },
  {
   "cell_type": "markdown",
   "id": "ba38d0ae-3c11-43cc-b9d9-55553ebda81d",
   "metadata": {},
   "source": [
    "### Coverage Calc"
   ]
  },
  {
   "cell_type": "code",
   "execution_count": null,
   "id": "ce23cece-4e7b-4be0-8874-9bf0b36096bc",
   "metadata": {},
   "outputs": [],
   "source": [
    "# we will work on the filtered file\n",
    "modbase_30aa_hq = pd.read_csv(\"processed_data/modbase/modbase_30aa_hq_fixed.tsv\", sep=\"\\t\") "
   ]
  },
  {
   "cell_type": "code",
   "execution_count": 12,
   "id": "2bc4053f-1023-4182-af06-b646d91501b9",
   "metadata": {},
   "outputs": [
    {
     "data": {
      "text/html": [
       "<div>\n",
       "<style scoped>\n",
       "    .dataframe tbody tr th:only-of-type {\n",
       "        vertical-align: middle;\n",
       "    }\n",
       "\n",
       "    .dataframe tbody tr th {\n",
       "        vertical-align: top;\n",
       "    }\n",
       "\n",
       "    .dataframe thead th {\n",
       "        text-align: right;\n",
       "    }\n",
       "</style>\n",
       "<table border=\"1\" class=\"dataframe\">\n",
       "  <thead>\n",
       "    <tr style=\"text-align: right;\">\n",
       "      <th></th>\n",
       "      <th>Entry</th>\n",
       "      <th>combined</th>\n",
       "      <th>Length</th>\n",
       "    </tr>\n",
       "  </thead>\n",
       "  <tbody>\n",
       "    <tr>\n",
       "      <th>0</th>\n",
       "      <td>A0A578</td>\n",
       "      <td>[[16.0, 113.0], [15.0, 113.0], [22.0, 114.0]]</td>\n",
       "      <td>114</td>\n",
       "    </tr>\n",
       "    <tr>\n",
       "      <th>1</th>\n",
       "      <td>A0A584</td>\n",
       "      <td>[[20.0, 115.0], [22.0, 115.0]]</td>\n",
       "      <td>115</td>\n",
       "    </tr>\n",
       "    <tr>\n",
       "      <th>2</th>\n",
       "      <td>A0A5B0</td>\n",
       "      <td>[[20.0, 111.0]]</td>\n",
       "      <td>115</td>\n",
       "    </tr>\n",
       "    <tr>\n",
       "      <th>3</th>\n",
       "      <td>A0A5B6</td>\n",
       "      <td>[[15.0, 113.0]]</td>\n",
       "      <td>114</td>\n",
       "    </tr>\n",
       "    <tr>\n",
       "      <th>4</th>\n",
       "      <td>A0AV96</td>\n",
       "      <td>[[143.0, 245.0], [147.0, 245.0]]</td>\n",
       "      <td>593</td>\n",
       "    </tr>\n",
       "    <tr>\n",
       "      <th>...</th>\n",
       "      <td>...</td>\n",
       "      <td>...</td>\n",
       "      <td>...</td>\n",
       "    </tr>\n",
       "    <tr>\n",
       "      <th>8613</th>\n",
       "      <td>Q9Y6X8</td>\n",
       "      <td>[[518.0, 605.0], [524.0, 605.0], [444.0, 496.0...</td>\n",
       "      <td>837</td>\n",
       "    </tr>\n",
       "    <tr>\n",
       "      <th>8614</th>\n",
       "      <td>Q9Y6Y0</td>\n",
       "      <td>[[5.0, 127.0]]</td>\n",
       "      <td>642</td>\n",
       "    </tr>\n",
       "    <tr>\n",
       "      <th>8615</th>\n",
       "      <td>Q9Y6Y1</td>\n",
       "      <td>[[872.0, 955.0], [872.0, 954.0]]</td>\n",
       "      <td>1673</td>\n",
       "    </tr>\n",
       "    <tr>\n",
       "      <th>8616</th>\n",
       "      <td>Q9Y6Y9</td>\n",
       "      <td>[[17.0, 160.0]]</td>\n",
       "      <td>160</td>\n",
       "    </tr>\n",
       "    <tr>\n",
       "      <th>8617</th>\n",
       "      <td>U3KPV4</td>\n",
       "      <td>[[63.0, 332.0], [44.0, 332.0], [63.0, 330.0], ...</td>\n",
       "      <td>340</td>\n",
       "    </tr>\n",
       "  </tbody>\n",
       "</table>\n",
       "<p>8618 rows × 3 columns</p>\n",
       "</div>"
      ],
      "text/plain": [
       "       Entry                                           combined  Length\n",
       "0     A0A578      [[16.0, 113.0], [15.0, 113.0], [22.0, 114.0]]     114\n",
       "1     A0A584                     [[20.0, 115.0], [22.0, 115.0]]     115\n",
       "2     A0A5B0                                    [[20.0, 111.0]]     115\n",
       "3     A0A5B6                                    [[15.0, 113.0]]     114\n",
       "4     A0AV96                   [[143.0, 245.0], [147.0, 245.0]]     593\n",
       "...      ...                                                ...     ...\n",
       "8613  Q9Y6X8  [[518.0, 605.0], [524.0, 605.0], [444.0, 496.0...     837\n",
       "8614  Q9Y6Y0                                     [[5.0, 127.0]]     642\n",
       "8615  Q9Y6Y1                   [[872.0, 955.0], [872.0, 954.0]]    1673\n",
       "8616  Q9Y6Y9                                    [[17.0, 160.0]]     160\n",
       "8617  U3KPV4  [[63.0, 332.0], [44.0, 332.0], [63.0, 330.0], ...     340\n",
       "\n",
       "[8618 rows x 3 columns]"
      ]
     },
     "execution_count": 12,
     "metadata": {},
     "output_type": "execute_result"
    }
   ],
   "source": [
    "modbase_30aa_hq = modbase_30aa_hq.rename(columns={'UniprotID': 'Entry'})\n",
    "modbase_30aa_hq['combined'] = modbase_30aa_hq.apply(lambda x: list([x[\"TargetBeg\"], x[\"TargetEnd\"]]),axis=1)\n",
    "data_new1 = modbase_30aa_hq.groupby('Entry').combined.apply(list).reset_index() \n",
    "data_new2 = modbase_30aa_hq.groupby(['Entry'], as_index=False).agg({\"Length\":\"first\"}) \n",
    "modbase_30aa_hq_cov = pd.merge(data_new1, data_new2, on=\"Entry\")\n",
    "modbase_30aa_hq_cov # 8618 proteins"
   ]
  },
  {
   "cell_type": "code",
   "execution_count": 13,
   "id": "b45ec201-3acc-4b03-bd5a-9448621571ba",
   "metadata": {},
   "outputs": [],
   "source": [
    "# calculate_coverage function comes from coverage_functions.py \n",
    "modbase_30aa_hq_cov[\"Coverage\"] = modbase_30aa_hq_cov.apply(lambda x: calculate_coverage(begin_end = x[\"combined\"],\n",
    "                                                                                         prot_length = x[\"Length\"]), axis=1)"
   ]
  },
  {
   "cell_type": "markdown",
   "id": "900560ad-cf1d-4885-b56c-641074e4a30d",
   "metadata": {},
   "source": [
    "### Correction part"
   ]
  },
  {
   "cell_type": "code",
   "execution_count": 16,
   "id": "3acb11c7-8a98-4570-91fc-7343cbad935a",
   "metadata": {},
   "outputs": [
    {
     "data": {
      "text/plain": [
       "8618"
      ]
     },
     "execution_count": 16,
     "metadata": {},
     "output_type": "execute_result"
    }
   ],
   "source": [
    "# models with correct length\n",
    "correct_modbase_30aa_hq_cov = modbase_30aa_hq_cov[~(modbase_30aa_hq_cov.Coverage > 100)] # 8618 # 22 proteins have wrong length info\n",
    "correct_modbase_30aa_hq_cov.to_excel('processed_data/modbase/modbase_30aa_hq_fixed_cov.xlsx', index=False)\n",
    "len(correct_modbase_30aa_hq_cov)"
   ]
  },
  {
   "cell_type": "code",
   "execution_count": 56,
   "id": "7f6bcfef-b7e0-4414-abf0-561ab424dd7f",
   "metadata": {},
   "outputs": [
    {
     "data": {
      "text/plain": [
       "35808"
      ]
     },
     "execution_count": 56,
     "metadata": {},
     "output_type": "execute_result"
    }
   ],
   "source": [
    "correct_modbase_30aa_hq_cov = pd.read_excel('processed_data/modbase/modbase_30aa_hq_cov.xlsx')\n",
    "correct_modbase_30aa_hq_cov.combined.apply(lambda x: ast.literal_eval(x)).apply(len).sum() # 35808"
   ]
  },
  {
   "cell_type": "code",
   "execution_count": 57,
   "id": "c685a51e-427c-403b-9ef9-90c6739e4b67",
   "metadata": {},
   "outputs": [
    {
     "data": {
      "text/plain": [
       "35808"
      ]
     },
     "execution_count": 57,
     "metadata": {},
     "output_type": "execute_result"
    }
   ],
   "source": [
    "modbase_30aa_hq_fixed = modbase_30aa_hq[modbase_30aa_hq.Entry.isin(correct_modbase_30aa_hq_cov.Entry)]\n",
    "modbase_30aa_hq_fixed.to_csv(\"processed_data/modbase/modbase_30aa_hq_fixed.tsv\", sep=\"\\t\", index=False)\n",
    "len(modbase_30aa_hq_fixed) # 35808 models, correct!"
   ]
  },
  {
   "cell_type": "code",
   "execution_count": null,
   "id": "ecb320b0-edb8-45d5-9796-2e25dab4528c",
   "metadata": {
    "collapsed": true,
    "jupyter": {
     "outputs_hidden": true
    },
    "tags": []
   },
   "outputs": [],
   "source": [
    "# triple checking\n",
    "mod_res_cov = get_residue_coverage(modbase_30aa_hq_fixed)\n",
    "len(mod_res_cov)"
   ]
  }
 ],
 "metadata": {
  "kernelspec": {
   "display_name": "Python 3",
   "language": "python",
   "name": "python3"
  },
  "language_info": {
   "codemirror_mode": {
    "name": "ipython",
    "version": 3
   },
   "file_extension": ".py",
   "mimetype": "text/x-python",
   "name": "python",
   "nbconvert_exporter": "python",
   "pygments_lexer": "ipython3",
   "version": "3.8.8"
  }
 },
 "nbformat": 4,
 "nbformat_minor": 5
}
