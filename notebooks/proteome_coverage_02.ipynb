{
 "cells": [
  {
   "cell_type": "code",
   "execution_count": 9,
   "id": "582a93ae-1996-48de-a5bc-e90af9a3a4af",
   "metadata": {},
   "outputs": [],
   "source": [
    "import ast\n",
    "from coverage_functions import *\n",
    "from matplotlib_venn import venn2, venn2_circles, venn2_unweighted\n",
    "from matplotlib_venn import venn3, venn3_circles\n",
    "from matplotlib import pyplot as plt\n",
    "%matplotlib inline"
   ]
  },
  {
   "cell_type": "code",
   "execution_count": 11,
   "id": "71e268ad-9525-4ddf-8e1e-099a40bb3ece",
   "metadata": {},
   "outputs": [],
   "source": [
    "# reviewed homo sapiens proteome from UniProt 2022_04\n",
    "# this dataset is filtered according to certain thresholds\n",
    "proteome = pd.read_excel(\"processed_data/uniprot/30aa_nounchar_noputative_ref_proteome_protein_existence_filtered_02.xlsx\", header=0)\n",
    "# find total proteome length\n",
    "proteome_length = np.sum(proteome.Length) # 10789741\n",
    "total_prot_num = proteome.Entry.nunique()"
   ]
  },
  {
   "cell_type": "code",
   "execution_count": null,
   "id": "9d58f5c0-c1e0-489a-bab2-0180a7a9e84d",
   "metadata": {},
   "outputs": [],
   "source": [
    "# filtered pdb structures for uniprot entries\n",
    "pdb = pd.read_csv(\"processed_data/uniprot/proteome_have_pdb_begin_end_missing_consec_greater_30pdb.csv\")\n",
    "# load homology modeling datasets\n",
    "modbase = pd.read_csv(\"processed_data/modbase/modbase_30aa_hq_fixed.tsv\", sep=\"\\t\")\n",
    "swissmodel = pd.read_csv(\"processed_data/swissmodel/swissmodel_30aa_hq.tsv\", sep=\"\\t\")\n",
    "swissmodel = swissmodel.rename(columns={'UniProtKB_ac': 'Entry', 'uniprot_seq_length': 'Length', 'from': 'TargetBeg', 'to': 'TargetEnd'})\n",
    "# print(len(modbase), len(swissmodel)) # double checking"
   ]
  },
  {
   "cell_type": "code",
   "execution_count": 13,
   "id": "ba0f8f25-5c9f-4a5a-be76-bb07dc93c7f4",
   "metadata": {},
   "outputs": [],
   "source": [
    "modbase_cov = pd.read_excel('processed_data/modbase/modbase_30aa_hq_fixed_cov.xlsx')\n",
    "swissmodel_cov = pd.read_excel(\"processed_data/swissmodel/swissmodel_30aa_hq_cov.xlsx\")"
   ]
  },
  {
   "cell_type": "code",
   "execution_count": 14,
   "id": "efc59890-8108-4f08-b616-ad4f7729d9fe",
   "metadata": {},
   "outputs": [],
   "source": [
    "# filtered alphafold structures\n",
    "af_85 = pd.read_excel('processed_data/alphafold/all_af_acc_85.xlsx')\n",
    "af_70 = pd.read_excel('processed_data/alphafold/all_af_acc_70.xlsx')\n",
    "af_50 = pd.read_excel('processed_data/alphafold/all_af_acc_50.xlsx')"
   ]
  },
  {
   "cell_type": "code",
   "execution_count": 15,
   "id": "f9382570-c890-43a8-9ae7-7ad0f193685f",
   "metadata": {},
   "outputs": [],
   "source": [
    "def get_acc(af_raw):\n",
    "    af = af_raw[af_raw['Situation'] == 'Yes']\n",
    "    return af\n",
    "\n",
    "af_85, af_70, af_50 = get_acc(af_85), get_acc(af_70), get_acc(af_50)"
   ]
  },
  {
   "cell_type": "markdown",
   "id": "e0e3fa11-013e-4534-9884-5f67473910da",
   "metadata": {},
   "source": [
    "# Coverage Results"
   ]
  },
  {
   "cell_type": "markdown",
   "id": "344d3aa5-0962-4a6b-a58f-112369735644",
   "metadata": {},
   "source": [
    "Get the number of UniProt IDs modeled by ModBase and SWISS-MODEL."
   ]
  },
  {
   "cell_type": "code",
   "execution_count": 97,
   "id": "1c4a78a5-edbe-4a6d-9acc-21203b45973a",
   "metadata": {},
   "outputs": [],
   "source": [
    "# calculate the number of proteins when residue coverages are above a certain threshold\n",
    "swissmodel_90 = get_res_coverage_by_threshold(swissmodel, 90)\n",
    "swissmodel_70 = get_res_coverage_by_threshold(swissmodel, 70)\n",
    "swissmodel_50 = get_res_coverage_by_threshold(swissmodel, 50)\n",
    "\n",
    "modbase_90 = get_res_coverage_by_threshold(modbase, 90)\n",
    "modbase_70 = get_res_coverage_by_threshold(modbase, 70)\n",
    "modbase_50 = get_res_coverage_by_threshold(modbase, 50)"
   ]
  },
  {
   "cell_type": "code",
   "execution_count": 98,
   "id": "1d3bd8b7-9cc2-499d-91ea-bfab031d0547",
   "metadata": {
    "tags": []
   },
   "outputs": [],
   "source": [
    "# also calculate the percentage protein-based coverage for the same thresholds\n",
    "swissmodel_90_pc = get_protein_based_coverage(swissmodel_90, total_prot_num)\n",
    "swissmodel_70_pc = get_protein_based_coverage(swissmodel_70, total_prot_num)\n",
    "swissmodel_50_pc = get_protein_based_coverage(swissmodel_50, total_prot_num)\n",
    "\n",
    "modbase_90_pc = get_protein_based_coverage(modbase_90, total_prot_num)\n",
    "modbase_70_pc = get_protein_based_coverage(modbase_70, total_prot_num)\n",
    "modbase_50_pc = get_protein_based_coverage(modbase_50, total_prot_num)"
   ]
  },
  {
   "cell_type": "code",
   "execution_count": 99,
   "id": "361d4f1a-eb02-4d4d-9337-607710ed339e",
   "metadata": {},
   "outputs": [
    {
     "name": "stdout",
     "output_type": "stream",
     "text": [
      "SWISS-MODEL residue coverage >= 90%: (2500, 13.5862)\n",
      "SWISS-MODEL residue coverage >= 70%: (4783, 25.9932)\n",
      "SWISS-MODEL residue coverage >= 50%: (5985, 32.5254)\n",
      "ModBase residue coverage >= 90%:  (3151, 17.1241)\n",
      "ModBase residue coverage >= 70%:  (4797, 26.0692)\n",
      "ModBase residue coverage >= 50%:  (5723, 31.1016)\n"
     ]
    }
   ],
   "source": [
    "# number of proteins, percent to total number of proteins\n",
    "print(f\"SWISS-MODEL residue coverage >= 90%: {swissmodel_90, swissmodel_90_pc}\") # we can model 90% of 2500 proteins\n",
    "print(f\"SWISS-MODEL residue coverage >= 70%: {swissmodel_70, swissmodel_70_pc}\")\n",
    "print(f\"SWISS-MODEL residue coverage >= 50%: {swissmodel_50, swissmodel_50_pc}\")\n",
    "\n",
    "print(f\"ModBase residue coverage >= 90%:  {modbase_90, modbase_90_pc}\")\n",
    "print(f\"ModBase residue coverage >= 70%:  {modbase_70, modbase_70_pc}\")\n",
    "print(f\"ModBase residue coverage >= 50%:  {modbase_50, modbase_50_pc}\")"
   ]
  },
  {
   "cell_type": "code",
   "execution_count": 8,
   "id": "62b802dd-6601-4807-878f-16692b304299",
   "metadata": {},
   "outputs": [
    {
     "name": "stdout",
     "output_type": "stream",
     "text": [
      "SWISS-MODEL residue coverage >= 90%:  2500\n",
      "SWISS-MODEL residue coverage >= 70%:  4783\n",
      "SWISS-MODEL residue coverage >= 50%:  5985\n",
      "ModBase residue coverage >= 90%:  3151\n",
      "ModBase residue coverage >= 70%:  4797\n",
      "ModBase residue coverage >= 50%:  5723\n"
     ]
    }
   ],
   "source": [
    "# double checking\n",
    "print(f\"SWISS-MODEL residue coverage >= 90%:  {len(swissmodel_cov[swissmodel_cov.Coverage >= 90])}\")\n",
    "print(f\"SWISS-MODEL residue coverage >= 70%:  {len(swissmodel_cov[swissmodel_cov.Coverage >= 70])}\")\n",
    "print(f\"SWISS-MODEL residue coverage >= 50%:  {len(swissmodel_cov[swissmodel_cov.Coverage >= 50])}\")\n",
    "\n",
    "print(f\"ModBase residue coverage >= 90%:  {len(modbase_cov[modbase_cov.Coverage >= 90])}\")\n",
    "print(f\"ModBase residue coverage >= 70%:  {len(modbase_cov[modbase_cov.Coverage >= 70])}\")\n",
    "print(f\"ModBase residue coverage >= 50%:  {len(modbase_cov[modbase_cov.Coverage >= 50])}\")"
   ]
  },
  {
   "cell_type": "code",
   "execution_count": 26,
   "id": "a76f5ab4-79a0-4462-94a0-f4de4e255003",
   "metadata": {},
   "outputs": [
    {
     "name": "stdout",
     "output_type": "stream",
     "text": [
      "SWISS-MODEL max proteome coverage: 24.987\n",
      "ModBase max proteome coverage: 22.179\n"
     ]
    }
   ],
   "source": [
    "# calculate the percentage of the residue-level proteome coverage of both databases\n",
    "print(\"SWISS-MODEL max proteome coverage:\", np.round(get_coverage_percent(swissmodel, proteome_length), 3))\n",
    "print(\"ModBase max proteome coverage:\", np.round(get_coverage_percent(modbase, proteome_length), 3))"
   ]
  },
  {
   "cell_type": "code",
   "execution_count": 100,
   "id": "b9561578-5093-4ad1-bc7c-b0c7078af8cd",
   "metadata": {},
   "outputs": [
    {
     "name": "stdout",
     "output_type": "stream",
     "text": [
      "Number of proteins that are common: 5364\n",
      "Only in SWISS-MODEL: 2522\n",
      "Only in ModBase: 3254\n"
     ]
    }
   ],
   "source": [
    "# more in-depth analysis\n",
    "common_prots, modbase_common, swissmodel_common, modbase_uncommon, swissmodel_uncommon = get_common_uncommon_elements(modbase, swissmodel)\n",
    "common = common_prots.groupby(by=\"Entry\").ngroups\n",
    "only_sm = swissmodel_uncommon.groupby(by=\"Entry\").ngroups\n",
    "only_mb = modbase_uncommon.groupby(by=\"Entry\").ngroups\n",
    "print(\"Number of proteins that are common:\", common)\n",
    "print(\"Only in SWISS-MODEL:\", only_sm)\n",
    "print(\"Only in ModBase:\", only_mb)"
   ]
  },
  {
   "cell_type": "code",
   "execution_count": 101,
   "id": "1d83bd64-4ede-48b9-a3db-08e0675ce79a",
   "metadata": {},
   "outputs": [
    {
     "name": "stdout",
     "output_type": "stream",
     "text": [
      "True\n",
      "True\n",
      "11140\n"
     ]
    }
   ],
   "source": [
    "print(5364 + 2522  == swissmodel.Entry.nunique()) # equal to number of proteins in SWISS-MODEL, 7886\n",
    "print(5364 + 3254  == modbase.Entry.nunique()) # equal to number of proteins in ModBase, 8618\n",
    "print(5364 + 2522 + 3254) # total number of proteins that can be modeled by both databases"
   ]
  },
  {
   "cell_type": "code",
   "execution_count": 103,
   "id": "3146f5ee-1aa1-4ed6-a812-bcbbea297c27",
   "metadata": {},
   "outputs": [
    {
     "data": {
      "text/plain": [
       "33.02"
      ]
     },
     "execution_count": 103,
     "metadata": {},
     "output_type": "execute_result"
    }
   ],
   "source": [
    "uncommon_swiss_cov = get_coverage_percent(swissmodel_uncommon, proteome_length)\n",
    "uncommon_mod_cov = get_coverage_percent(modbase_uncommon, proteome_length)\n",
    "common_cov = get_coverage_percent(common_prots, proteome_length)\n",
    "np.round((uncommon_swiss_cov + uncommon_mod_cov + common_cov), 2) # 33.022% of the proteome is covered by our two databases"
   ]
  },
  {
   "cell_type": "markdown",
   "id": "24a0b565-22d8-47ac-9c19-0b86fe492e12",
   "metadata": {},
   "source": [
    "## Coverage - using PDB filtered datasets"
   ]
  },
  {
   "cell_type": "markdown",
   "id": "bb893fda-9d54-4d8d-acd0-02dac905d16b",
   "metadata": {},
   "source": [
    "Excluding the residues already covered by PDB."
   ]
  },
  {
   "cell_type": "code",
   "execution_count": 12,
   "id": "310b07de-3f30-49d5-9ff3-e515f31cc3e7",
   "metadata": {},
   "outputs": [
    {
     "name": "stdout",
     "output_type": "stream",
     "text": [
      "27091 5930\n"
     ]
    }
   ],
   "source": [
    "modbase_extra = pd.read_excel('processed_data/modbase/modbase_30aa_hq_fixed_extra_to_pdb.xlsx')\n",
    "swissmodel_extra = pd.read_excel('processed_data/swissmodel/swissmodel_30aa_hq_extra_to_pdb.xlsx')\n",
    "modbase_extra['model_length'] = modbase_extra['TargetEnd'] - modbase_extra['TargetBeg'] + 1\n",
    "print(len(modbase_extra), len(swissmodel_extra)) "
   ]
  },
  {
   "cell_type": "code",
   "execution_count": 77,
   "id": "52a54501-a43e-446e-a432-6301b6e61719",
   "metadata": {},
   "outputs": [],
   "source": [
    "modbase_extra.difference.fillna(modbase_extra.model_residues, inplace=True)\n",
    "swissmodel_extra.difference.fillna(swissmodel_extra.model_residues, inplace=True)"
   ]
  },
  {
   "cell_type": "code",
   "execution_count": 78,
   "id": "23aeed69-f7de-41ac-8fe1-a2155b3c5f84",
   "metadata": {},
   "outputs": [],
   "source": [
    "modbase_extra['difference'] = modbase_extra['difference'].apply(lambda x: eval(x))\n",
    "swissmodel_extra['difference'] = swissmodel_extra['difference'].apply(lambda x: eval(x))"
   ]
  },
  {
   "cell_type": "code",
   "execution_count": 81,
   "id": "2d630842-1854-42cf-b646-b61a478a0fd9",
   "metadata": {
    "tags": []
   },
   "outputs": [],
   "source": [
    "def get_res_coverage_by_threshold_extra(df, threshold, gb=\"Entry\"):\n",
    "    dfs = [x for _, x in df.groupby(by=gb)]\n",
    "    coverage_percents = []\n",
    "    for df in dfs:\n",
    "        covered_resid = set()\n",
    "        prot_length = list(set(df[\"Length\"].to_list()))[0]\n",
    "        for model in range(len(df)):\n",
    "            covered_resid.update(df.iloc[model].difference)\n",
    "        coverage_percents.append(len(covered_resid) * 100 / prot_length)\n",
    "    \n",
    "    num_proteins = 0\n",
    "    for i in coverage_percents:\n",
    "        if i >= threshold:\n",
    "            num_proteins += 1\n",
    "    return num_proteins"
   ]
  },
  {
   "cell_type": "code",
   "execution_count": 82,
   "id": "f8ed4e31-2573-407e-a08e-f134415eea64",
   "metadata": {
    "tags": []
   },
   "outputs": [],
   "source": [
    "# calculate the number of proteins when residue coverages are above a certain threshold\n",
    "swissmodel_90 = get_res_coverage_by_threshold_extra(swissmodel_extra, 90)\n",
    "swissmodel_70 = get_res_coverage_by_threshold_extra(swissmodel_extra, 70)\n",
    "swissmodel_50 = get_res_coverage_by_threshold_extra(swissmodel_extra, 50)\n",
    "\n",
    "modbase_90 = get_res_coverage_by_threshold_extra(modbase_extra, 90)\n",
    "modbase_70 = get_res_coverage_by_threshold_extra(modbase_extra, 70)\n",
    "modbase_50 = get_res_coverage_by_threshold_extra(modbase_extra, 50)"
   ]
  },
  {
   "cell_type": "code",
   "execution_count": 84,
   "id": "612b923a-5704-4b1a-8f85-2986dc7cdf1c",
   "metadata": {},
   "outputs": [],
   "source": [
    "# also calculate the percentage protein-based coverage for the same thresholds\n",
    "swissmodel_90_pc = get_protein_based_coverage(swissmodel_90, total_prot_num)\n",
    "swissmodel_70_pc = get_protein_based_coverage(swissmodel_70, total_prot_num)\n",
    "swissmodel_50_pc = get_protein_based_coverage(swissmodel_50, total_prot_num)\n",
    "\n",
    "modbase_90_pc = get_protein_based_coverage(modbase_90, total_prot_num)\n",
    "modbase_70_pc = get_protein_based_coverage(modbase_70, total_prot_num)\n",
    "modbase_50_pc = get_protein_based_coverage(modbase_50, total_prot_num)"
   ]
  },
  {
   "cell_type": "code",
   "execution_count": 85,
   "id": "4a49ccd0-30a4-41a7-92f7-9eaf76fde649",
   "metadata": {},
   "outputs": [
    {
     "name": "stdout",
     "output_type": "stream",
     "text": [
      "SWISS-MODEL residue coverage >= 90%: (705, 3.8313)\n",
      "SWISS-MODEL residue coverage >= 70%: (1562, 8.4887)\n",
      "SWISS-MODEL residue coverage >= 50%: (2062, 11.2059)\n",
      "ModBase residue coverage >= 90%:  (1446, 7.8583)\n",
      "ModBase residue coverage >= 70%:  (2247, 12.2113)\n",
      "ModBase residue coverage >= 50%:  (2711, 14.7329)\n"
     ]
    }
   ],
   "source": [
    "# number of proteins, percent to total number of proteins\n",
    "print(f\"SWISS-MODEL residue coverage >= 90%: {swissmodel_90, swissmodel_90_pc}\") # we can model 90% of 705 proteins\n",
    "print(f\"SWISS-MODEL residue coverage >= 70%: {swissmodel_70, swissmodel_70_pc}\")\n",
    "print(f\"SWISS-MODEL residue coverage >= 50%: {swissmodel_50, swissmodel_50_pc}\")\n",
    "\n",
    "print(f\"ModBase residue coverage >= 90%:  {modbase_90, modbase_90_pc}\")\n",
    "print(f\"ModBase residue coverage >= 70%:  {modbase_70, modbase_70_pc}\")\n",
    "print(f\"ModBase residue coverage >= 50%:  {modbase_50, modbase_50_pc}\")"
   ]
  },
  {
   "cell_type": "code",
   "execution_count": 86,
   "id": "7729fc92-2539-4073-8be2-ea6cc31fd597",
   "metadata": {},
   "outputs": [],
   "source": [
    "def get_coverage_percent_extra(df, proteome_length, gb=\"Entry\"):\n",
    "    dfs = [x for _, x in df.groupby(by=gb)]\n",
    "    coverage_percent = 0\n",
    "    for df in dfs:\n",
    "        covered_resid = set()\n",
    "        for model in range(len(df)):\n",
    "            covered_resid.update(df.iloc[model].difference)\n",
    "        coverage_percent += len(covered_resid) * 100 / proteome_length\n",
    "    return coverage_percent"
   ]
  },
  {
   "cell_type": "code",
   "execution_count": 88,
   "id": "1d309ec9-0d1a-4830-8998-52280d67529c",
   "metadata": {},
   "outputs": [
    {
     "name": "stdout",
     "output_type": "stream",
     "text": [
      "SWISS-MODEL max proteome coverage: 10.09\n",
      "ModBase max proteome coverage: 11.95\n"
     ]
    }
   ],
   "source": [
    "# calculate the percentage of the residue-level proteome coverage of both databases\n",
    "print(\"SWISS-MODEL max proteome coverage:\", np.round(get_coverage_percent_extra(swissmodel_extra, proteome_length), 2))\n",
    "print(\"ModBase max proteome coverage:\", np.round(get_coverage_percent_extra(modbase_extra, proteome_length), 2))"
   ]
  },
  {
   "cell_type": "code",
   "execution_count": 89,
   "id": "ee6e35fe-6245-4695-8632-787a55493f1b",
   "metadata": {},
   "outputs": [
    {
     "name": "stdout",
     "output_type": "stream",
     "text": [
      "Number of proteins that are common: 3108\n",
      "Only in SWISS-MODEL: 1796\n",
      "Only in ModBase: 4192\n"
     ]
    }
   ],
   "source": [
    "# more in-depth analysis\n",
    "common_prots2, modbase_common2, swissmodel_common2, modbase_uncommon2, swissmodel_uncommon2 = get_common_uncommon_elements(modbase_extra, swissmodel_extra)\n",
    "common2 = common_prots2.groupby(by=\"Entry\").ngroups\n",
    "only_sm2 = swissmodel_uncommon2.groupby(by=\"Entry\").ngroups\n",
    "only_mb2 = modbase_uncommon2.groupby(by=\"Entry\").ngroups\n",
    "print(\"Number of proteins that are common:\", common2)\n",
    "print(\"Only in SWISS-MODEL:\", only_sm2)\n",
    "print(\"Only in ModBase:\", only_mb2)"
   ]
  },
  {
   "cell_type": "code",
   "execution_count": 106,
   "id": "bdaf1837-1b71-4ea8-bddb-63f78b0396b2",
   "metadata": {},
   "outputs": [
    {
     "name": "stdout",
     "output_type": "stream",
     "text": [
      "True 4904\n",
      "True 7300\n",
      "Total number of proteins covered:  9096\n"
     ]
    }
   ],
   "source": [
    "print(common2 + only_sm2  == swissmodel_extra.Entry.nunique(), common2 + only_sm2)\n",
    "print(common2 + only_mb2  == modbase_extra.Entry.nunique(), common2 + only_mb2)\n",
    "print('Total number of proteins covered: ', common2+only_mb2+only_sm2)"
   ]
  },
  {
   "cell_type": "code",
   "execution_count": 93,
   "id": "5a12b451-c9cb-4c5e-871a-72d140fb59ff",
   "metadata": {},
   "outputs": [
    {
     "data": {
      "text/plain": [
       "16.47"
      ]
     },
     "execution_count": 93,
     "metadata": {},
     "output_type": "execute_result"
    }
   ],
   "source": [
    "uncommon_swiss_cov2 = get_coverage_percent_extra(swissmodel_uncommon2, proteome_length)\n",
    "uncommon_mod_cov2 = get_coverage_percent_extra(modbase_uncommon2, proteome_length)\n",
    "common_cov2 = get_coverage_percent_extra(common_prots2, proteome_length)\n",
    "np.round((uncommon_swiss_cov2 + uncommon_mod_cov2 + common_cov2), 2) # 16.47% of the proteome is covered by our two databases"
   ]
  },
  {
   "cell_type": "markdown",
   "id": "dbafd614-b6e3-41dd-8aef-514ac03dda4d",
   "metadata": {},
   "source": [
    "# Structure Classification"
   ]
  },
  {
   "cell_type": "code",
   "execution_count": null,
   "id": "fbc0f97e-7282-4421-b934-2f1259a42ac2",
   "metadata": {},
   "outputs": [],
   "source": [
    "# get all covered residues for every entry (missings already removed)\n",
    "def get_all_covered_residues(pdb_file):\n",
    "    pdb_file = pdb_file.drop_duplicates(subset=[\"Entry\", \"ResidueList\"], keep=\"last\") # 51845\n",
    "    pdb_file['ResidueList'] = pdb_file['ResidueList'].apply(lambda x: ast.literal_eval(x))\n",
    "    pdb_file2 = pdb_file.groupby('Entry')['ResidueList'].apply(list).reset_index(name='AllCoveredResidues')\n",
    "    pdb_file2['AllCoveredResidues'] = pdb_file2['AllCoveredResidues'].apply(lambda x: sum(x, [])).apply(set)\n",
    "    return pdb_file2\n",
    "\n",
    "pdb2 = get_all_covered_residues(pdb)\n",
    "pdb2['covered_len'] = pdb2.apply(lambda x: len(x['AllCoveredResidues']), axis=1)"
   ]
  },
  {
   "cell_type": "code",
   "execution_count": 17,
   "id": "c9c205e5-9597-40cf-8dbc-63c707343a06",
   "metadata": {},
   "outputs": [],
   "source": [
    "pdb_len = pdb[['Entry', 'Length']]"
   ]
  },
  {
   "cell_type": "code",
   "execution_count": 18,
   "id": "7b565354-7067-44ce-ba6f-513fbb97d689",
   "metadata": {},
   "outputs": [],
   "source": [
    "pdb_cov = pd.merge(pdb2, pdb_len, on='Entry', how='left')\n",
    "pdb_cov = pdb_cov.drop_duplicates('Entry')\n",
    "pdb_cov['Coverage'] = pdb_cov.apply(lambda x: x['covered_len']/x['Length']*100, axis=1)"
   ]
  },
  {
   "cell_type": "code",
   "execution_count": 19,
   "id": "dc217620-de37-465f-a83d-845b9c5b02f4",
   "metadata": {},
   "outputs": [],
   "source": [
    "def classify(cov_df, df_name, total_prot_num, col='Coverage'):\n",
    "    stats = [df_name, 0, 0, 0] # database name, high cov str (>=80%), partial (<80%) str, nothing.\n",
    "    stats[1] = len(cov_df[cov_df[col] >= 80])\n",
    "    stats[2] = len(cov_df[cov_df[col] < 80])\n",
    "    stats[3] = total_prot_num - stats[1] - stats[2]\n",
    "    \n",
    "    return stats"
   ]
  },
  {
   "cell_type": "code",
   "execution_count": 20,
   "id": "8962e133-2056-4890-bf0e-fec5542577c4",
   "metadata": {},
   "outputs": [],
   "source": [
    "pdb_stats = classify(pdb_cov, 'PDB', total_prot_num)\n",
    "swissmodel_stats = classify(swissmodel_cov, 'SWISS-MODEL', total_prot_num)\n",
    "modbase_stats = classify(modbase_cov, 'ModBase', total_prot_num)\n",
    "af_85_stats = classify(af_85, 'AF-85', total_prot_num, col='Accuracy_Avg')\n",
    "af_70_stats = classify(af_70, 'AF-70', total_prot_num, col='Accuracy_Avg')\n",
    "af_50_stats = classify(af_50, 'AF-50', total_prot_num, col='Accuracy_Avg')"
   ]
  },
  {
   "cell_type": "code",
   "execution_count": 22,
   "id": "c8ff3760-e014-4c3d-822a-53bd2dd4471f",
   "metadata": {},
   "outputs": [
    {
     "data": {
      "text/plain": [
       "(['AF-50', 7928, 5810, 4663],\n",
       " ['AF-70', 7854, 1810, 8737],\n",
       " ['AF-85', 4917, 13, 13471])"
      ]
     },
     "execution_count": 22,
     "metadata": {},
     "output_type": "execute_result"
    }
   ],
   "source": [
    "af_50_stats, af_70_stats, af_85_stats"
   ]
  },
  {
   "cell_type": "code",
   "execution_count": 23,
   "id": "9be7ddb4-e8bd-4bbe-ad2a-473880992b6b",
   "metadata": {},
   "outputs": [],
   "source": [
    "dfs = [pdb_stats, swissmodel_stats, modbase_stats, af_50_stats, af_70_stats, af_85_stats]\n",
    "all_stats = pd.DataFrame(data = dfs, columns= [\"Database\", \"Complete structure\", \"Partial structure\", \"No structure\"])"
   ]
  },
  {
   "cell_type": "code",
   "execution_count": 24,
   "id": "4d65dd74-5191-4fc4-b8dc-801a604935ef",
   "metadata": {},
   "outputs": [
    {
     "data": {
      "image/png": "[encoded data removed]",
      "text/plain": [
       "<Figure size 432x288 with 1 Axes>"
      ]
     },
     "metadata": {
      "needs_background": "light"
     },
     "output_type": "display_data"
    }
   ],
   "source": [
    "ax = all_stats.plot(x=\"Database\", y=[\"Complete structure\", \"Partial structure\", \"No structure\"], kind=\"bar\", rot=0, stacked=True)\n",
    "#_ = ax.legend(bbox_to_anchor=(0.68, 1), loc='upper left')\n",
    "_ = ax.legend(bbox_to_anchor=(0, 1), loc='upper left')\n",
    "#ax.set_title('Structures by Databases')\n",
    "ax.set_ylabel('Number of Proteins')\n",
    "plt.savefig('figures/proteome/by_databases_80.png', dpi=600)"
   ]
  }
 ],
 "metadata": {
  "kernelspec": {
   "display_name": "Python 3",
   "language": "python",
   "name": "python3"
  },
  "language_info": {
   "codemirror_mode": {
    "name": "ipython",
    "version": 3
   },
   "file_extension": ".py",
   "mimetype": "text/x-python",
   "name": "python",
   "nbconvert_exporter": "python",
   "pygments_lexer": "ipython3",
   "version": "3.8.8"
  }
 },
 "nbformat": 4,
 "nbformat_minor": 5
}
