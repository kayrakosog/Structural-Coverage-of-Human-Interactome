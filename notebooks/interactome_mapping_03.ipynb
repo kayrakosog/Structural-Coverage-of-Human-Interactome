{
 "cells": [
  {
   "cell_type": "code",
   "execution_count": 1,
   "id": "7c2fc9f9-4dee-4388-bfd2-b200c685407b",
   "metadata": {},
   "outputs": [],
   "source": [
    "from interactome_funcs import *"
   ]
  },
  {
   "cell_type": "code",
   "execution_count": 2,
   "id": "94bfef15-2d54-486c-ad2b-f549f3b8af03",
   "metadata": {},
   "outputs": [
    {
     "data": {
      "text/plain": [
       "18401"
      ]
     },
     "execution_count": 2,
     "metadata": {},
     "output_type": "execute_result"
    }
   ],
   "source": [
    "# reviewed homo sapiens proteome from UniProt 2022_04\n",
    "# this dataset is filtered according to certain thresholds\n",
    "proteome = pd.read_excel(\"processed_data/uniprot/30aa_nounchar_noputative_ref_proteome_protein_existence_filtered_02.xlsx\", header=0)\n",
    "len(proteome)"
   ]
  },
  {
   "cell_type": "markdown",
   "id": "f692ced3-34c9-422c-9d1b-de1a659f31c5",
   "metadata": {},
   "source": [
    "## HuRI\n",
    "\n",
    "http://www.interactome-atlas.org/download"
   ]
  },
  {
   "cell_type": "code",
   "execution_count": 41,
   "id": "193f67db-9032-465e-9b8e-922ed2be94a3",
   "metadata": {},
   "outputs": [],
   "source": [
    "huri = pd.read_csv('raw_data/interactomes/huri/HuRI.tsv', sep='\\t', header=None, names=['protein1', 'protein2']) # 52548"
   ]
  },
  {
   "cell_type": "code",
   "execution_count": 5,
   "id": "805e983d-3883-4aa6-9a50-fe18041ae7e9",
   "metadata": {},
   "outputs": [],
   "source": [
    "# extract unique ENSEMBL IDs for mapping to UniProt IDs\n",
    "huri_all_genes = huri[['protein1', 'protein2']].to_numpy().flatten()\n",
    "huri_unique_genes = pd.DataFrame(np.unique(huri_all_genes), columns=['Ensembl']) # 8272\n",
    "huri_unique_genes.to_csv('raw_data/interactomes/huri/huri_ensemble_genes.txt', sep=' ', index=False, header=None)"
   ]
  },
  {
   "cell_type": "code",
   "execution_count": 48,
   "id": "18827fd3-f46c-4a35-b716-2d9ac8487fc7",
   "metadata": {},
   "outputs": [
    {
     "data": {
      "text/plain": [
       "8158"
      ]
     },
     "execution_count": 48,
     "metadata": {},
     "output_type": "execute_result"
    }
   ],
   "source": [
    "# uniprot id mapping results\n",
    "huri_mapping = pd.read_csv('raw_data/interactomes/huri/uniprot-download_true_fields_accession_2Cid_2Cgene_names_2Corganism_-2022.12.05-09.18.01.83.tsv', sep='\\t')\n",
    "huri_mapping = huri_mapping[['From', 'Entry']]\n",
    "len(huri_mapped)"
   ]
  },
  {
   "cell_type": "code",
   "execution_count": 54,
   "id": "53a813c2-1bbb-4c88-bd66-e4907c3b3c8b",
   "metadata": {},
   "outputs": [],
   "source": [
    "# sanity check. for 1 by 1 mapping.\n",
    "# huri_mapping.From.str.split(',').apply(len).sum()"
   ]
  },
  {
   "cell_type": "code",
   "execution_count": 7,
   "id": "128ef4da-0f42-4655-a819-8572d982506f",
   "metadata": {
    "tags": []
   },
   "outputs": [],
   "source": [
    "# duplicate check\n",
    "# same ENSG IDs are mapped to different UniProt IDs\n",
    "# keep the file\n",
    "huri_duplicate_ensembl = huri_mapping[huri_mapping.duplicated('From', keep=False)] # len=20, 10 IDs duplicated\n",
    "huri_duplicate_ensembl.to_excel(\"raw_data/interactomes/huri/huri_duplicate_ensembl.xlsx\", index=False)"
   ]
  },
  {
   "cell_type": "code",
   "execution_count": 40,
   "id": "94cf23a6-8e47-4244-9354-3d5a607e3623",
   "metadata": {},
   "outputs": [],
   "source": [
    "# duplicates are investigated. from huri_psi file, mapping is checked. incorrect ones are excluded from mapped list.\n",
    "# for ENSG00000186184, both mappings were incorrect according to huri_psi file but the correct one was not included in the ref. proteome \n",
    "# we selected P0DPB6 as it was the canonical one from ref protein and excluded P0DPB5.\n",
    "exclude = ['Q9Y4C0', 'Q9UII6', 'Q5TFQ8', 'Q9BXH1', 'P06881', 'Q9P0M2', 'P42166', 'Q6ZVN7', 'L0R6Q1', 'P0DPB5']  \n",
    "huri_mapping = huri_mapping[huri_mapping[\"Entry\"].str.contains('|'.join(exclude)) == False]"
   ]
  },
  {
   "cell_type": "code",
   "execution_count": 49,
   "id": "ef9a8713-a63a-466c-9699-99008c770f9d",
   "metadata": {},
   "outputs": [],
   "source": [
    "# map ENSG to UniProt and drop if NA\n",
    "huri['protein1_uniprot'] = huri.protein1.map(huri_mapping.set_index('From')['Entry'].to_dict())\n",
    "huri['protein2_uniprot'] = huri.protein2.map(huri_mapping.set_index('From')['Entry'].to_dict())\n",
    "huri = huri.dropna() # 51343"
   ]
  },
  {
   "cell_type": "code",
   "execution_count": 61,
   "id": "74dec786-4635-4079-b1ac-82f2fd74bc34",
   "metadata": {},
   "outputs": [],
   "source": [
    "# map to reference proteome data\n",
    "huri_proteome_mapped = huri[(huri.protein1_uniprot.isin(proteome.Entry)) & huri.protein2_uniprot.isin(proteome.Entry)] # 49050"
   ]
  },
  {
   "cell_type": "code",
   "execution_count": 64,
   "id": "da0b164b-8a77-435b-afa7-159d515b5ed2",
   "metadata": {},
   "outputs": [],
   "source": [
    "# remove redundant ones (A-B, B-A)\n",
    "huri_final = remove_duplicates(huri_proteome_mapped) # 48763 interactions\n",
    "huri_final.to_excel('processed_data/interactomes/huri/huri_final.xlsx', index=False)"
   ]
  },
  {
   "cell_type": "code",
   "execution_count": 66,
   "id": "8fa02b71-6412-4556-b615-e43c9bf9555c",
   "metadata": {},
   "outputs": [
    {
     "data": {
      "text/plain": [
       "(7889,)"
      ]
     },
     "execution_count": 66,
     "metadata": {},
     "output_type": "execute_result"
    }
   ],
   "source": [
    "# check the number of nodes/proteins\n",
    "np.unique(huri_final[['protein1_uniprot', 'protein2_uniprot']].to_numpy().flatten()).shape # 7889 proteins"
   ]
  },
  {
   "cell_type": "markdown",
   "id": "efe04c3d-3ad3-48e3-b4cb-fcbaacae9178",
   "metadata": {},
   "source": [
    "## STRING\n",
    "\n",
    "https://string-db.org/cgi/download?sessionId=beWWyYG7kyNt&species_text=Homo+sapiens"
   ]
  },
  {
   "cell_type": "code",
   "execution_count": 3,
   "id": "3e7b547a-a43e-4aae-8acd-364332fae534",
   "metadata": {},
   "outputs": [],
   "source": [
    "string = pd.read_csv('raw_data/interactomes/string/9606.protein.physical.links.detailed.v11.5.txt', sep=' ') # 1991832"
   ]
  },
  {
   "cell_type": "markdown",
   "id": "f930113a-44b8-46fa-af90-ba5c34dfd885",
   "metadata": {},
   "source": [
    "### adjust the scoring\n",
    "\n",
    "http://version10.string-db.org/help/faq/#how-are-the-scores-computed <br>\n",
    "https://stringdb-static.org/download/combine_subscores.py python script"
   ]
  },
  {
   "cell_type": "code",
   "execution_count": 102,
   "id": "3b5064fc-d1a2-47ee-bf1c-b53d5e841c41",
   "metadata": {},
   "outputs": [],
   "source": [
    "prior = 0.041\n",
    "\n",
    "def compute_prior_away(score, prior=0.041):\n",
    "    if score < prior: score = prior\n",
    "    score_no_prior = (score - prior) / (1 - prior)\n",
    "    return score_no_prior\n",
    "\n",
    "string[['experimental', 'database']] = string[['experimental', 'database']].div(1000)\n",
    "string['experimental_nop'] = string['experimental'].apply(compute_prior_away)\n",
    "string['database_nop'] = string['database'].apply(compute_prior_away)\n",
    "string['expdtb_combined'] = 1.0 - ((1.0 - string['experimental_nop']) * (1 - string['database_nop']))\n",
    "string['expdtb_combined'] *= (1.0 - prior)\n",
    "string['expdtb_combined'] += prior"
   ]
  },
  {
   "cell_type": "code",
   "execution_count": 128,
   "id": "bdccb0e5-eaa7-41a1-bf2b-95eadf4a47b2",
   "metadata": {},
   "outputs": [],
   "source": [
    "# get high-conf interactions\n",
    "string = string[['protein1', 'protein2', 'experimental', 'database', 'expdtb_combined']]\n",
    "string_high_conf = string[string['expdtb_combined'] > 0.7] # 137718\n",
    "string_high_conf.to_excel('processed_data/interactomes/string/string_high_conf.xlsx', index=False)"
   ]
  },
  {
   "cell_type": "code",
   "execution_count": null,
   "id": "0cd13452-e18c-4514-985b-2c290bf96140",
   "metadata": {
    "collapsed": true,
    "jupyter": {
     "outputs_hidden": true
    },
    "tags": []
   },
   "outputs": [],
   "source": [
    "# we need unique ENSEMBL IDs for mapping to UniProt IDs\n",
    "string_high_conf.protein1 = string_high_conf.protein1.str.lstrip(\"9606.\")\n",
    "string_high_conf.protein2 = string_high_conf.protein2.str.lstrip(\"9606.\")\n",
    "string_all_ensprots = string_high_conf[['protein1', 'protein2']].to_numpy().flatten()\n",
    "string_uniq_ensprots = pd.DataFrame(np.unique(string_all_ensprots), columns=['Ensembl']) # 8220\n",
    "#string_uniq_ensprots.to_csv('raw_data/interactomes/string/string_ensemble_prots.txt', sep=' ', header=None, index=False)"
   ]
  },
  {
   "cell_type": "code",
   "execution_count": 115,
   "id": "269f09be-c52c-4c3a-add8-f7b485f549e2",
   "metadata": {},
   "outputs": [
    {
     "data": {
      "text/plain": [
       "7632"
      ]
     },
     "execution_count": 115,
     "metadata": {},
     "output_type": "execute_result"
    }
   ],
   "source": [
    "# uniprot id mapping results\n",
    "string_mapping = pd.read_csv('raw_data/interactomes/string/uniprot-download_true_fields_accession_2Cid_2Cgene_names_2Corganism_-2022.12.05-11.31.44.62.tsv', sep='\\t')\n",
    "string_mapping = string_mapping[['From', 'Entry']]\n",
    "len(string_mapping)"
   ]
  },
  {
   "cell_type": "code",
   "execution_count": 113,
   "id": "b8e60e10-d53a-4b72-9917-bd80731ffb57",
   "metadata": {},
   "outputs": [],
   "source": [
    "# string_mapping[string_mapping.duplicated('From', keep=False)] # no dups"
   ]
  },
  {
   "cell_type": "code",
   "execution_count": null,
   "id": "47407253-2162-4cf8-b23d-236325ecd2ee",
   "metadata": {
    "collapsed": true,
    "jupyter": {
     "outputs_hidden": true
    },
    "tags": []
   },
   "outputs": [],
   "source": [
    "# map ENSP to UniProt\n",
    "string_high_conf['protein1_uniprot'] = string_high_conf.protein1.map(string_mapping.set_index('From')['Entry'].to_dict())\n",
    "string_high_conf['protein2_uniprot'] = string_high_conf.protein2.map(string_mapping.set_index('From')['Entry'].to_dict())\n",
    "string_high_conf = string_high_conf.dropna() # 121618"
   ]
  },
  {
   "cell_type": "code",
   "execution_count": 134,
   "id": "65ec629c-e495-4587-9345-134666b46848",
   "metadata": {},
   "outputs": [],
   "source": [
    "# map to reference proteome data\n",
    "string_high_conf_proteome_mapped = string_high_conf[(string_high_conf.protein1_uniprot.isin(proteome.Entry)) & string_high_conf.protein2_uniprot.isin(proteome.Entry)] # 120410"
   ]
  },
  {
   "cell_type": "code",
   "execution_count": 136,
   "id": "427df9db-504b-4319-a940-556a8ca04d27",
   "metadata": {},
   "outputs": [],
   "source": [
    "# remove redundant ones (A-B, B-A)\n",
    "string_high_conf_final = remove_duplicates(string_high_conf_proteome_mapped) # 57192 interactions\n",
    "string_high_conf_final.to_excel('processed_data/interactomes/string/string_high_conf_final.xlsx', index=False)"
   ]
  },
  {
   "cell_type": "code",
   "execution_count": 138,
   "id": "2e5bcae5-4ded-476d-b94d-9942c2d00e06",
   "metadata": {},
   "outputs": [
    {
     "data": {
      "text/plain": [
       "(7327,)"
      ]
     },
     "execution_count": 138,
     "metadata": {},
     "output_type": "execute_result"
    }
   ],
   "source": [
    "# check the number of nodes/proteins\n",
    "np.unique(string_high_conf_final[['protein1_uniprot', 'protein2_uniprot']].to_numpy().flatten()).shape # 7327 proteins"
   ]
  },
  {
   "cell_type": "markdown",
   "id": "9e4e4631-ca2c-432c-a095-7b59ecbc24d7",
   "metadata": {},
   "source": [
    "## BioPlex\n",
    "\n",
    "https://bioplex.hms.harvard.edu/interactions.php 2021 datasets"
   ]
  },
  {
   "cell_type": "code",
   "execution_count": 3,
   "id": "fc124762-86c2-4955-8bbb-fe342bc056d1",
   "metadata": {},
   "outputs": [],
   "source": [
    "bioplex_293t = pd.read_csv('raw_data/interactomes/bioplex/BioPlex_293T_Network_10K_Dec_2019.tsv', sep='\\t') # 118162\n",
    "bioplex_hct116 = pd.read_csv('raw_data/interactomes/bioplex/BioPlex_HCT116_Network_5.5K_Dec_2019.tsv', sep='\\t') # 70966\n",
    "bioplex = pd.concat([bioplex_293t, bioplex_hct116]) # 189128"
   ]
  },
  {
   "cell_type": "code",
   "execution_count": 5,
   "id": "5f0c808a-4a76-4ff2-a5ec-17e0b3231146",
   "metadata": {},
   "outputs": [],
   "source": [
    "# map to reference proteome data (both cases)\n",
    "bioplex_proteome_mapped = bioplex[(bioplex.UniprotA.isin(proteome.Entry)) & bioplex.UniprotB.isin(proteome.Entry)] # 87568, no NA values\n",
    "bioplex_293t_proteome_mapped = bioplex_293t[(bioplex_293t.UniprotA.isin(proteome.Entry)) & bioplex_293t.UniprotB.isin(proteome.Entry)] # 53136, no NA values"
   ]
  },
  {
   "cell_type": "code",
   "execution_count": 8,
   "id": "fd661736-ab1d-47aa-9619-63f601981164",
   "metadata": {},
   "outputs": [],
   "source": [
    "# remove redundant ones (A-B, B-A)\n",
    "bioplex_final = remove_duplicates(bioplex_proteome_mapped, int_dtb_ids=['UniprotA', 'UniprotB']) # 77713 interactions\n",
    "bioplex_final = bioplex_final.rename(columns={'UniprotA': 'protein1_uniprot', 'UniprotB': 'protein2_uniprot'})\n",
    "bioplex_final.to_excel('processed_data/interactomes/bioplex/bioplex_final.xlsx', index=False)\n",
    "\n",
    "bioplex_293t_final = remove_duplicates(bioplex_293t_proteome_mapped, int_dtb_ids=['UniprotA', 'UniprotB']) # 53136 interactions\n",
    "bioplex_293t_final = bioplex_293t_final.rename(columns={'UniprotA': 'protein1_uniprot', 'UniprotB': 'protein2_uniprot'})\n",
    "bioplex_293t_final.to_excel('processed_data/interactomes/bioplex/bioplex_293t_final.xlsx', index=False)"
   ]
  },
  {
   "cell_type": "code",
   "execution_count": 11,
   "id": "5254f2ea-6964-458f-833c-2096848f5de5",
   "metadata": {},
   "outputs": [
    {
     "name": "stdout",
     "output_type": "stream",
     "text": [
      "(9615,)\n",
      "(8806,)\n"
     ]
    }
   ],
   "source": [
    "# check the number of nodes/proteins\n",
    "print(np.unique(bioplex_final[['protein1_uniprot', 'protein2_uniprot']].to_numpy().flatten()).shape) # 9615 proteins\n",
    "print(np.unique(bioplex_293t_final[['protein1_uniprot', 'protein2_uniprot']].to_numpy().flatten()).shape) # 8806 proteins"
   ]
  },
  {
   "cell_type": "markdown",
   "id": "813ef82e-5558-4a4e-b773-758a602269d8",
   "metadata": {},
   "source": [
    "## HIPPIE\n",
    "\n",
    "http://cbdm-01.zdv.uni-mainz.de/~mschaefer/hippie/download.php\n",
    "\n",
    "current release (v2.3)\tlast updated: 04/29/22"
   ]
  },
  {
   "cell_type": "code",
   "execution_count": 3,
   "id": "0570fcf9-ab03-4221-aa55-ad9852bd08dd",
   "metadata": {},
   "outputs": [],
   "source": [
    "hippie = pd.read_csv('raw_data/interactomes/hippie/hippie_current.txt', sep='\\t', header=None, names=['protein1', 'unk1', 'protein2', 'unk2', 'score', 'information'])\n",
    "# there are NAs only in protein1 & protein2, drop them\n",
    "hippie = hippie.dropna() # 819719"
   ]
  },
  {
   "cell_type": "code",
   "execution_count": 4,
   "id": "dc3d434f-cc74-46bd-8200-491d32b9c30f",
   "metadata": {},
   "outputs": [],
   "source": [
    "# select binary PPI detection methods\n",
    "hippie_binary = hippie[hippie['information'].str.contains('Two-hybrid|atomic force microscopy|fluorescent resonance energy transfer')] "
   ]
  },
  {
   "cell_type": "code",
   "execution_count": 7,
   "id": "a4a24975-5606-40f4-8149-be387419205f",
   "metadata": {},
   "outputs": [],
   "source": [
    "# select high conf PPIs\n",
    "hippie_binary_hq = hippie_binary[hippie_binary['score'] >= 0.73] # 25269"
   ]
  },
  {
   "cell_type": "code",
   "execution_count": null,
   "id": "f4b13447-8422-447c-b01b-378b578f90c3",
   "metadata": {
    "collapsed": true,
    "jupyter": {
     "outputs_hidden": true
    },
    "tags": []
   },
   "outputs": [],
   "source": [
    "# map to reference proteome data\n",
    "hippie_binary_hq['protein1_uniprot'] = hippie_binary_hq.protein1.map(proteome.set_index('Entry Name')['Entry'].to_dict())\n",
    "hippie_binary_hq['protein2_uniprot'] = hippie_binary_hq.protein2.map(proteome.set_index('Entry Name')['Entry'].to_dict())\n",
    "hippie_binary_hq = hippie_binary_hq.dropna() # 22602"
   ]
  },
  {
   "cell_type": "code",
   "execution_count": 14,
   "id": "b6914f00-f7c0-4b0e-b13d-75414dd50686",
   "metadata": {},
   "outputs": [
    {
     "name": "stdout",
     "output_type": "stream",
     "text": [
      "22280\n",
      "(7640,)\n"
     ]
    }
   ],
   "source": [
    "# remove redundant ones and check the number of nodes and proteins\n",
    "hippie_binary_hq = remove_duplicates(hippie_binary_hq)\n",
    "hippie_binary_hq.to_excel('processed_data/interactomes/hippie/hippie_binary_hq_final.xlsx', index=False)\n",
    "print(len(hippie_binary_hq)) # 22280 interactions\n",
    "print(np.unique(hippie_binary_hq[['protein1_uniprot', 'protein2_uniprot']].to_numpy().flatten()).shape) # 7640 proteins"
   ]
  },
  {
   "cell_type": "markdown",
   "id": "d784fd57-eb39-4a7f-9630-f6f04cd98fe6",
   "metadata": {},
   "source": [
    "## APID\n",
    "\n",
    "http://cicblade.dep.usal.es:8080/APID/init.action\n",
    "\n",
    "APID version: March 2021\n",
    "\n",
    "Level 2: interactions proven by at least 1 binary method (binary interactomes)\n",
    "\n",
    "If you want to filter out inter-species interactions select \"YES\" and download again"
   ]
  },
  {
   "cell_type": "code",
   "execution_count": 3,
   "id": "12d63d60-6909-4e42-9670-d5669c338563",
   "metadata": {},
   "outputs": [],
   "source": [
    "apid = pd.read_csv('raw_data/interactomes/apid/9606_noISI_Q1.txt', sep='\\t') # 135055"
   ]
  },
  {
   "cell_type": "code",
   "execution_count": 22,
   "id": "506fd185-e126-41e1-9e38-d9542a88a9f0",
   "metadata": {},
   "outputs": [],
   "source": [
    "# apid[['UniprotID_A', 'UniprotID_B']].dropna() # no NAs"
   ]
  },
  {
   "cell_type": "code",
   "execution_count": 14,
   "id": "fa68731c-cc48-4688-a38b-81a54f447248",
   "metadata": {},
   "outputs": [
    {
     "data": {
      "text/html": [
       "<div>\n",
       "<style scoped>\n",
       "    .dataframe tbody tr th:only-of-type {\n",
       "        vertical-align: middle;\n",
       "    }\n",
       "\n",
       "    .dataframe tbody tr th {\n",
       "        vertical-align: top;\n",
       "    }\n",
       "\n",
       "    .dataframe thead th {\n",
       "        text-align: right;\n",
       "    }\n",
       "</style>\n",
       "<table border=\"1\" class=\"dataframe\">\n",
       "  <thead>\n",
       "    <tr style=\"text-align: right;\">\n",
       "      <th></th>\n",
       "      <th>InteractionID</th>\n",
       "      <th>UniprotID_A</th>\n",
       "      <th>UniprotName_A</th>\n",
       "      <th>GeneName_A</th>\n",
       "      <th>UniprotID_B</th>\n",
       "      <th>UniprotName_B</th>\n",
       "      <th>GeneName_B</th>\n",
       "      <th>ExpEvidences</th>\n",
       "      <th>Methods</th>\n",
       "      <th>Publications</th>\n",
       "      <th>3DStructures</th>\n",
       "      <th>CurationEvents</th>\n",
       "    </tr>\n",
       "  </thead>\n",
       "  <tbody>\n",
       "    <tr>\n",
       "      <th>0</th>\n",
       "      <td>1205000</td>\n",
       "      <td>Q14160</td>\n",
       "      <td>SCRIB_HUMAN</td>\n",
       "      <td>SCRIB</td>\n",
       "      <td>B7Z2Y1</td>\n",
       "      <td>B7Z2Y1_HUMAN</td>\n",
       "      <td>NaN</td>\n",
       "      <td>1</td>\n",
       "      <td>1</td>\n",
       "      <td>1</td>\n",
       "      <td>0</td>\n",
       "      <td>3</td>\n",
       "    </tr>\n",
       "    <tr>\n",
       "      <th>1</th>\n",
       "      <td>1205001</td>\n",
       "      <td>Q14160</td>\n",
       "      <td>SCRIB_HUMAN</td>\n",
       "      <td>SCRIB</td>\n",
       "      <td>Q14155</td>\n",
       "      <td>ARHG7_HUMAN</td>\n",
       "      <td>ARHGEF7</td>\n",
       "      <td>11</td>\n",
       "      <td>8</td>\n",
       "      <td>8</td>\n",
       "      <td>0</td>\n",
       "      <td>20</td>\n",
       "    </tr>\n",
       "    <tr>\n",
       "      <th>2</th>\n",
       "      <td>1205002</td>\n",
       "      <td>Q14160</td>\n",
       "      <td>SCRIB_HUMAN</td>\n",
       "      <td>SCRIB</td>\n",
       "      <td>Q7Z628</td>\n",
       "      <td>ARHG8_HUMAN</td>\n",
       "      <td>NET1</td>\n",
       "      <td>2</td>\n",
       "      <td>2</td>\n",
       "      <td>2</td>\n",
       "      <td>0</td>\n",
       "      <td>2</td>\n",
       "    </tr>\n",
       "    <tr>\n",
       "      <th>3</th>\n",
       "      <td>1205003</td>\n",
       "      <td>P22460</td>\n",
       "      <td>KCNA5_HUMAN</td>\n",
       "      <td>KCNA5</td>\n",
       "      <td>Q14160</td>\n",
       "      <td>SCRIB_HUMAN</td>\n",
       "      <td>SCRIB</td>\n",
       "      <td>1</td>\n",
       "      <td>1</td>\n",
       "      <td>1</td>\n",
       "      <td>0</td>\n",
       "      <td>2</td>\n",
       "    </tr>\n",
       "    <tr>\n",
       "      <th>5</th>\n",
       "      <td>1205005</td>\n",
       "      <td>O00429</td>\n",
       "      <td>DNM1L_HUMAN</td>\n",
       "      <td>DNM1L</td>\n",
       "      <td>Q14160</td>\n",
       "      <td>SCRIB_HUMAN</td>\n",
       "      <td>SCRIB</td>\n",
       "      <td>1</td>\n",
       "      <td>1</td>\n",
       "      <td>1</td>\n",
       "      <td>0</td>\n",
       "      <td>2</td>\n",
       "    </tr>\n",
       "    <tr>\n",
       "      <th>...</th>\n",
       "      <td>...</td>\n",
       "      <td>...</td>\n",
       "      <td>...</td>\n",
       "      <td>...</td>\n",
       "      <td>...</td>\n",
       "      <td>...</td>\n",
       "      <td>...</td>\n",
       "      <td>...</td>\n",
       "      <td>...</td>\n",
       "      <td>...</td>\n",
       "      <td>...</td>\n",
       "      <td>...</td>\n",
       "    </tr>\n",
       "    <tr>\n",
       "      <th>134615</th>\n",
       "      <td>2424643</td>\n",
       "      <td>Q13361</td>\n",
       "      <td>MFAP5_HUMAN</td>\n",
       "      <td>MFAP5</td>\n",
       "      <td>P35556</td>\n",
       "      <td>FBN2_HUMAN</td>\n",
       "      <td>FBN2</td>\n",
       "      <td>2</td>\n",
       "      <td>2</td>\n",
       "      <td>2</td>\n",
       "      <td>0</td>\n",
       "      <td>2</td>\n",
       "    </tr>\n",
       "    <tr>\n",
       "      <th>134768</th>\n",
       "      <td>2426823</td>\n",
       "      <td>P24386</td>\n",
       "      <td>RAE1_HUMAN</td>\n",
       "      <td>CHM</td>\n",
       "      <td>P20338</td>\n",
       "      <td>RAB4A_HUMAN</td>\n",
       "      <td>RAB4A</td>\n",
       "      <td>2</td>\n",
       "      <td>2</td>\n",
       "      <td>2</td>\n",
       "      <td>0</td>\n",
       "      <td>2</td>\n",
       "    </tr>\n",
       "    <tr>\n",
       "      <th>134941</th>\n",
       "      <td>2427806</td>\n",
       "      <td>Q9NY26</td>\n",
       "      <td>S39A1_HUMAN</td>\n",
       "      <td>SLC39A1</td>\n",
       "      <td>Q13303</td>\n",
       "      <td>KCAB2_HUMAN</td>\n",
       "      <td>KCNAB2</td>\n",
       "      <td>1</td>\n",
       "      <td>2</td>\n",
       "      <td>1</td>\n",
       "      <td>0</td>\n",
       "      <td>2</td>\n",
       "    </tr>\n",
       "    <tr>\n",
       "      <th>134946</th>\n",
       "      <td>2427812</td>\n",
       "      <td>Q9NP94</td>\n",
       "      <td>S39A2_HUMAN</td>\n",
       "      <td>SLC39A2</td>\n",
       "      <td>Q13303</td>\n",
       "      <td>KCAB2_HUMAN</td>\n",
       "      <td>KCNAB2</td>\n",
       "      <td>1</td>\n",
       "      <td>2</td>\n",
       "      <td>1</td>\n",
       "      <td>0</td>\n",
       "      <td>2</td>\n",
       "    </tr>\n",
       "    <tr>\n",
       "      <th>134976</th>\n",
       "      <td>2428182</td>\n",
       "      <td>Q13361</td>\n",
       "      <td>MFAP5_HUMAN</td>\n",
       "      <td>MFAP5</td>\n",
       "      <td>P23142</td>\n",
       "      <td>FBLN1_HUMAN</td>\n",
       "      <td>FBLN1</td>\n",
       "      <td>2</td>\n",
       "      <td>2</td>\n",
       "      <td>2</td>\n",
       "      <td>0</td>\n",
       "      <td>2</td>\n",
       "    </tr>\n",
       "  </tbody>\n",
       "</table>\n",
       "<p>73363 rows × 12 columns</p>\n",
       "</div>"
      ],
      "text/plain": [
       "        InteractionID UniprotID_A UniprotName_A GeneName_A UniprotID_B  \\\n",
       "0             1205000      Q14160   SCRIB_HUMAN      SCRIB      B7Z2Y1   \n",
       "1             1205001      Q14160   SCRIB_HUMAN      SCRIB      Q14155   \n",
       "2             1205002      Q14160   SCRIB_HUMAN      SCRIB      Q7Z628   \n",
       "3             1205003      P22460   KCNA5_HUMAN      KCNA5      Q14160   \n",
       "5             1205005      O00429   DNM1L_HUMAN      DNM1L      Q14160   \n",
       "...               ...         ...           ...        ...         ...   \n",
       "134615        2424643      Q13361   MFAP5_HUMAN      MFAP5      P35556   \n",
       "134768        2426823      P24386    RAE1_HUMAN        CHM      P20338   \n",
       "134941        2427806      Q9NY26   S39A1_HUMAN    SLC39A1      Q13303   \n",
       "134946        2427812      Q9NP94   S39A2_HUMAN    SLC39A2      Q13303   \n",
       "134976        2428182      Q13361   MFAP5_HUMAN      MFAP5      P23142   \n",
       "\n",
       "       UniprotName_B GeneName_B  ExpEvidences  Methods  Publications  \\\n",
       "0       B7Z2Y1_HUMAN        NaN             1        1             1   \n",
       "1        ARHG7_HUMAN    ARHGEF7            11        8             8   \n",
       "2        ARHG8_HUMAN       NET1             2        2             2   \n",
       "3        SCRIB_HUMAN      SCRIB             1        1             1   \n",
       "5        SCRIB_HUMAN      SCRIB             1        1             1   \n",
       "...              ...        ...           ...      ...           ...   \n",
       "134615    FBN2_HUMAN       FBN2             2        2             2   \n",
       "134768   RAB4A_HUMAN      RAB4A             2        2             2   \n",
       "134941   KCAB2_HUMAN     KCNAB2             1        2             1   \n",
       "134946   KCAB2_HUMAN     KCNAB2             1        2             1   \n",
       "134976   FBLN1_HUMAN      FBLN1             2        2             2   \n",
       "\n",
       "        3DStructures  CurationEvents  \n",
       "0                  0               3  \n",
       "1                  0              20  \n",
       "2                  0               2  \n",
       "3                  0               2  \n",
       "5                  0               2  \n",
       "...              ...             ...  \n",
       "134615             0               2  \n",
       "134768             0               2  \n",
       "134941             0               2  \n",
       "134946             0               2  \n",
       "134976             0               2  \n",
       "\n",
       "[73363 rows x 12 columns]"
      ]
     },
     "execution_count": 14,
     "metadata": {},
     "output_type": "execute_result"
    }
   ],
   "source": [
    "apid[apid['CurationEvents'] >= 2]"
   ]
  },
  {
   "cell_type": "code",
   "execution_count": 79,
   "id": "65a84212-3666-46f2-bf25-6879657be6ac",
   "metadata": {},
   "outputs": [],
   "source": [
    "# map to reference proteome data\n",
    "apid_proteome_mapped = apid[(apid.UniprotID_A.isin(proteome.Entry)) & apid.UniprotID_B.isin(proteome.Entry)] # 125722"
   ]
  },
  {
   "cell_type": "code",
   "execution_count": 26,
   "id": "c8b76bb4-a840-4960-89c0-12f191a8c02d",
   "metadata": {},
   "outputs": [],
   "source": [
    "# remove redundant ones (A-B, B-A)\n",
    "apid_final = remove_duplicates(apid_proteome_mapped, int_dtb_ids=['UniprotID_A', 'UniprotID_B']) # 125722 interactions\n",
    "apid_final.to_excel('processed_data/interactomes/apid/apid_final.xlsx', index=False)"
   ]
  },
  {
   "cell_type": "code",
   "execution_count": 28,
   "id": "ced0c442-7048-4147-a790-c7c7000f1c63",
   "metadata": {},
   "outputs": [
    {
     "data": {
      "text/plain": [
       "(14854,)"
      ]
     },
     "execution_count": 28,
     "metadata": {},
     "output_type": "execute_result"
    }
   ],
   "source": [
    "# check the number of nodes/proteins\n",
    "np.unique(apid_final[['UniprotID_A', 'UniprotID_B']].to_numpy().flatten()).shape # 14854 proteins"
   ]
  },
  {
   "cell_type": "markdown",
   "id": "44625863-64c6-4c96-8dfd-c09092edd022",
   "metadata": {},
   "source": [
    "## PICKLE\n",
    "\n",
    "PICKLE Release 3.3 (Oct 1, 2021)\n",
    "\n",
    "http://www.pickle.gr/Downloads#HUMAN-3-3\n",
    "\n",
    "PPI network (based on IntAct release 239, BioGRID release 4.4.198 and HPRD release 9) > Normalized at the Protein (UniProt) level > Cross-checked (Default) (UniProt IDs: 16420, Interactions: 218025)"
   ]
  },
  {
   "cell_type": "code",
   "execution_count": 15,
   "id": "e4700b6f-fda0-418f-8332-91b612f10d08",
   "metadata": {},
   "outputs": [],
   "source": [
    "pickle = pd.read_csv('raw_data/interactomes/pickle/UniProtNormalizedTabular-default.txt', sep='\\t') # 218025"
   ]
  },
  {
   "cell_type": "code",
   "execution_count": 31,
   "id": "58ce9e04-c2cf-40de-a054-42ac6b292b29",
   "metadata": {},
   "outputs": [],
   "source": [
    "# map to reference proteome data\n",
    "pickle_proteome_mapped = pickle[(pickle.InteractorA.isin(proteome.Entry)) & pickle.InteractorB.isin(proteome.Entry)] # 211943, no NAs"
   ]
  },
  {
   "cell_type": "code",
   "execution_count": 34,
   "id": "baa506a6-f94f-439d-baaf-66aafe84b790",
   "metadata": {},
   "outputs": [],
   "source": [
    "# remove redundant ones (A-B, B-A)\n",
    "pickle_final = remove_duplicates(pickle_proteome_mapped, int_dtb_ids=['InteractorA', 'InteractorB']) # 211943 interactions\n",
    "pickle_final.to_excel('processed_data/interactomes/pickle/pickle_final.xlsx', index=False)"
   ]
  },
  {
   "cell_type": "code",
   "execution_count": 36,
   "id": "9dceef6e-6ced-4d2d-b343-94d896ff047f",
   "metadata": {},
   "outputs": [
    {
     "data": {
      "text/plain": [
       "(15922,)"
      ]
     },
     "execution_count": 36,
     "metadata": {},
     "output_type": "execute_result"
    }
   ],
   "source": [
    "# check the number of nodes/proteins\n",
    "np.unique(pickle_final[['InteractorA', 'InteractorB']].to_numpy().flatten()).shape # 15922 proteins"
   ]
  },
  {
   "cell_type": "markdown",
   "id": "03b52d7c-5b1c-4be9-bd42-f9476e88f1ea",
   "metadata": {},
   "source": [
    "## BioGRID\n",
    "\n",
    "https://downloads.thebiogrid.org/File/BioGRID/Release-Archive/BIOGRID-4.4.216/BIOGRID-ORGANISM-4.4.216.tab3.zip\n",
    "\n",
    "Release Version: 4.4.216\n",
    "\n",
    "Last Modified: November 29th, 2022"
   ]
  },
  {
   "cell_type": "code",
   "execution_count": 3,
   "id": "952baba9-81f3-4e41-b361-fc9567a9f5b4",
   "metadata": {
    "tags": []
   },
   "outputs": [
    {
     "name": "stderr",
     "output_type": "stream",
     "text": [
      "/home/zeynep/anaconda3/lib/python3.8/site-packages/IPython/core/interactiveshell.py:3165: DtypeWarning: Columns (1,2,18) have mixed types.Specify dtype option on import or set low_memory=False.\n",
      "  has_raised = await self.run_ast_nodes(code_ast.body, cell_name,\n"
     ]
    }
   ],
   "source": [
    "biogrid = pd.read_csv('raw_data/interactomes/biogrid/BIOGRID-ORGANISM-Homo_sapiens-4.4.216.tab3.txt', sep='\\t') # 1120006"
   ]
  },
  {
   "cell_type": "code",
   "execution_count": 4,
   "id": "081743f3-c51c-4967-b649-b056224cd3f5",
   "metadata": {},
   "outputs": [],
   "source": [
    "# removing 'genetic' system type\n",
    "biogrid = biogrid[biogrid['Experimental System Type'] == 'physical'] # 1103242"
   ]
  },
  {
   "cell_type": "code",
   "execution_count": 6,
   "id": "3f3231a1-6ee3-41f1-87f0-0c3181449a5b",
   "metadata": {},
   "outputs": [],
   "source": [
    "# map to reference proteome data\n",
    "biogrid_proteome_mapped = biogrid[(biogrid['SWISS-PROT Accessions Interactor A'].isin(proteome.Entry)) & biogrid['SWISS-PROT Accessions Interactor B'].isin(proteome.Entry)] # 974465"
   ]
  },
  {
   "cell_type": "code",
   "execution_count": 47,
   "id": "247003e4-0f5c-4538-b583-0237aa5fded5",
   "metadata": {},
   "outputs": [],
   "source": [
    "# remove redundant ones (A-B, B-A)\n",
    "biogrid_final = remove_duplicates(biogrid_proteome_mapped, int_dtb_ids=['SWISS-PROT Accessions Interactor A', 'SWISS-PROT Accessions Interactor B']) # 719566 interactions\n",
    "biogrid_final.to_csv('processed_data/interactomes/biogrid/biogrid_final.tsv', sep='\\t', index=False)"
   ]
  },
  {
   "cell_type": "code",
   "execution_count": 49,
   "id": "568175f5-3a54-4893-a061-acf10f397284",
   "metadata": {},
   "outputs": [
    {
     "data": {
      "text/plain": [
       "(17100,)"
      ]
     },
     "execution_count": 49,
     "metadata": {},
     "output_type": "execute_result"
    }
   ],
   "source": [
    "# check the number of nodes/proteins\n",
    "np.unique(biogrid_final[['SWISS-PROT Accessions Interactor A', 'SWISS-PROT Accessions Interactor B']].to_numpy().flatten()).shape # 17100 proteins"
   ]
  },
  {
   "cell_type": "markdown",
   "id": "15629686-585b-4f0f-9fc9-e9540c976121",
   "metadata": {},
   "source": [
    "## IID\n",
    "\n",
    "http://iid.ophid.utoronto.ca/ downloads section"
   ]
  },
  {
   "cell_type": "code",
   "execution_count": 3,
   "id": "c5c5be7e",
   "metadata": {},
   "outputs": [
    {
     "name": "stderr",
     "output_type": "stream",
     "text": [
      "/tmp/ipykernel_23167/1299342873.py:1: DtypeWarning: Columns (4,5) have mixed types. Specify dtype option on import or set low_memory=False.\n",
      "  iid = pd.read_csv('raw_data/interactomes/iid/human_annotated_PPIs.txt', sep='\\t') #\n"
     ]
    }
   ],
   "source": [
    "iid = pd.read_csv('raw_data/interactomes/iid/human_annotated_PPIs.txt', sep='\\t') # 1209534"
   ]
  },
  {
   "cell_type": "code",
   "execution_count": 11,
   "id": "2dc4ba40",
   "metadata": {},
   "outputs": [],
   "source": [
    "iid_exp = iid[iid.evidence_type.str.contains('exp')] # 560628, no NA ids"
   ]
  },
  {
   "cell_type": "code",
   "execution_count": 14,
   "id": "f2e22aab",
   "metadata": {},
   "outputs": [],
   "source": [
    "# map to reference proteome data\n",
    "iid_exp_proteome_mapped = iid_exp[(iid_exp['uniprot1'].isin(proteome.Entry)) & iid_exp['uniprot2'].isin(proteome.Entry)] # 542157"
   ]
  },
  {
   "cell_type": "code",
   "execution_count": 22,
   "id": "053acd02",
   "metadata": {},
   "outputs": [],
   "source": [
    "# remove redundant ones (A-B, B-A)\n",
    "iid_exp_final = remove_duplicates(iid_exp_proteome_mapped, int_dtb_ids=['uniprot1', 'uniprot2']) # 542157 interactions\n",
    "iid_exp_final.to_csv('processed_data/interactomes/iid/iid_exp_final.tsv', sep='\\t', index=False)"
   ]
  },
  {
   "cell_type": "code",
   "execution_count": 24,
   "id": "d0508742",
   "metadata": {},
   "outputs": [
    {
     "data": {
      "text/plain": [
       "(17331,)"
      ]
     },
     "execution_count": 24,
     "metadata": {},
     "output_type": "execute_result"
    }
   ],
   "source": [
    "# check the number of nodes/proteins\n",
    "np.unique(iid_exp_final[['uniprot1', 'uniprot2']].to_numpy().flatten()).shape # 17331 proteins"
   ]
  },
  {
   "cell_type": "markdown",
   "id": "29b9db8e-0db2-4039-b533-f75487a28f1f",
   "metadata": {},
   "source": [
    "# Final Dataset"
   ]
  },
  {
   "cell_type": "code",
   "execution_count": null,
   "id": "9d0ed16a-fcd2-47e5-be2d-7344fe6505b0",
   "metadata": {},
   "outputs": [],
   "source": [
    "concatted = pd.concat([huri_final, string_high_conf_final, hippie_binary_hq])"
   ]
  },
  {
   "cell_type": "code",
   "execution_count": null,
   "id": "d7ea0f5f-8356-4075-adde-03d30f2e1436",
   "metadata": {},
   "outputs": [],
   "source": [
    "interactome = remove_duplicates(concatted) # 117897 interactions\n",
    "# np.unique(interactome[['protein1_uniprot', 'protein2_uniprot']].to_numpy().flatten()).shape # 12748 proteins"
   ]
  },
  {
   "cell_type": "code",
   "execution_count": null,
   "id": "24d17c42-3e06-42a7-9aa2-b08c012eccb3",
   "metadata": {},
   "outputs": [],
   "source": [
    "interactome.to_excel('processed_data/interactomes/interactome_final.xlsx', index=False)"
   ]
  }
 ],
 "metadata": {
  "kernelspec": {
   "display_name": "Python 3",
   "language": "python",
   "name": "python3"
  },
  "language_info": {
   "codemirror_mode": {
    "name": "ipython",
    "version": 3
   },
   "file_extension": ".py",
   "mimetype": "text/x-python",
   "name": "python",
   "nbconvert_exporter": "python",
   "pygments_lexer": "ipython3",
   "version": "3.8.8"
  }
 },
 "nbformat": 4,
 "nbformat_minor": 5
}
