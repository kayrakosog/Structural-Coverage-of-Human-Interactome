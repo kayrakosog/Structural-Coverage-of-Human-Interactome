{
 "cells": [
  {
   "cell_type": "code",
   "execution_count": 1,
   "id": "677e202f-29c8-441d-a912-638420cc1e4d",
   "metadata": {},
   "outputs": [],
   "source": [
    "import ast\n",
    "from itertools import combinations\n",
    "from coverage_functions import *"
   ]
  },
  {
   "cell_type": "markdown",
   "id": "1a0d88b0-a724-4d5e-84b1-55aed9065062",
   "metadata": {},
   "source": [
    "# SWISS-MODEL\n",
    "## Filtering data according to reference proteome & model quality"
   ]
  },
  {
   "cell_type": "code",
   "execution_count": 3,
   "id": "2dec6841-c7c8-4aa7-91d4-a1eb70a8d1ec",
   "metadata": {},
   "outputs": [],
   "source": [
    "def filter_swissmodel(file):\n",
    "    # provider filtering\n",
    "    file = file[(file[[\"provider\"]]  == \"SWISSMODEL\").all(1)] # provider PDB is filtered out\n",
    "    \n",
    "    # Filter wrt proteome\n",
    "    file = file.assign(in_uniprot=file['UniProtKB_ac'].isin(proteome.Entry))\n",
    "    file = file[file.in_uniprot == True]\n",
    "    \n",
    "    # 30aa filtering\n",
    "    file['model_length'] = file['to'] - file['from'] + 1\n",
    "    file = file[file[\"model_length\"] >= 30]\n",
    "    \n",
    "    # Get high quality models, QMEANDISCo Global Score > 0.7 as advised by providers\n",
    "    file = file[(file[[\"qmeandisco_global\"]] > 0.7).all(1)]\n",
    "    \n",
    "    # duplicate filtering, keep the highest scores\n",
    "    file = file.sort_values(by=[\"qmeandisco_global\"]).drop_duplicates(subset=[\"UniProtKB_ac\", \"from\", \"to\"], keep=\"last\")\n",
    "    \n",
    "    return file"
   ]
  },
  {
   "cell_type": "code",
   "execution_count": 2,
   "id": "265a7b81-906b-411c-a0c8-ac4c8172f429",
   "metadata": {},
   "outputs": [
    {
     "data": {
      "text/plain": [
       "18401"
      ]
     },
     "execution_count": 2,
     "metadata": {},
     "output_type": "execute_result"
    }
   ],
   "source": [
    "# reviewed homo sapiens proteome from UniProt 2022_04\n",
    "# this dataset is filtered according to certain thresholds\n",
    "proteome = pd.read_excel(\"processed_data/uniprot/30aa_nounchar_noputative_ref_proteome_protein_existence_filtered_02.xlsx\", header=0)\n",
    "len(proteome)"
   ]
  },
  {
   "cell_type": "code",
   "execution_count": 3,
   "id": "652a445a-bb6b-49c8-b81b-aefe9311ae55",
   "metadata": {},
   "outputs": [],
   "source": [
    "# load swissmodel data\n",
    "swissmodel = pd.read_csv(\"raw_data/swissmodel/INDEX\", sep=\"\\t\", skiprows=(0,1,2,3,4,5), header=0) # 163578"
   ]
  },
  {
   "cell_type": "code",
   "execution_count": 6,
   "id": "eaab636d-29a1-40df-b0b3-b7fe907c6a52",
   "metadata": {},
   "outputs": [
    {
     "data": {
      "text/plain": [
       "9541"
      ]
     },
     "execution_count": 6,
     "metadata": {},
     "output_type": "execute_result"
    }
   ],
   "source": [
    "# filtering\n",
    "swissmodel_30aa_hq = filter_swissmodel(swissmodel) # 9541\n",
    "len(swissmodel_30aa_hq)"
   ]
  },
  {
   "cell_type": "code",
   "execution_count": 17,
   "id": "9c19a0df-41c7-426c-aa02-64ad7ede64fa",
   "metadata": {},
   "outputs": [],
   "source": [
    "swissmodel_30aa_hq.to_csv(\"processed_data/swissmodel/swissmodel_30aa_hq.tsv\", sep=\"\\t\", index=False)"
   ]
  },
  {
   "cell_type": "markdown",
   "id": "1b95ab5a-ceab-4796-b94f-73929c0d4278",
   "metadata": {},
   "source": [
    "## Coverage Calculation"
   ]
  },
  {
   "cell_type": "code",
   "execution_count": 3,
   "id": "0a4dd310-383c-43ee-ad00-1e9db81fd189",
   "metadata": {},
   "outputs": [],
   "source": [
    "# we will work on the filtered file\n",
    "swissmodel_30aa_hq = pd.read_csv(\"processed_data/swissmodel/swissmodel_30aa_hq.tsv\", sep=\"\\t\")"
   ]
  },
  {
   "cell_type": "code",
   "execution_count": 4,
   "id": "3e87fb84-a2ea-4d56-920a-ce6e28d9e191",
   "metadata": {},
   "outputs": [
    {
     "data": {
      "text/html": [
       "<div>\n",
       "<style scoped>\n",
       "    .dataframe tbody tr th:only-of-type {\n",
       "        vertical-align: middle;\n",
       "    }\n",
       "\n",
       "    .dataframe tbody tr th {\n",
       "        vertical-align: top;\n",
       "    }\n",
       "\n",
       "    .dataframe thead th {\n",
       "        text-align: right;\n",
       "    }\n",
       "</style>\n",
       "<table border=\"1\" class=\"dataframe\">\n",
       "  <thead>\n",
       "    <tr style=\"text-align: right;\">\n",
       "      <th></th>\n",
       "      <th>Entry</th>\n",
       "      <th>combined</th>\n",
       "      <th>uniprot_seq_length</th>\n",
       "    </tr>\n",
       "  </thead>\n",
       "  <tbody>\n",
       "    <tr>\n",
       "      <th>0</th>\n",
       "      <td>A0A075B6H7</td>\n",
       "      <td>[[21, 116]]</td>\n",
       "      <td>116</td>\n",
       "    </tr>\n",
       "    <tr>\n",
       "      <th>1</th>\n",
       "      <td>A0A075B6H8</td>\n",
       "      <td>[[19, 117]]</td>\n",
       "      <td>117</td>\n",
       "    </tr>\n",
       "    <tr>\n",
       "      <th>2</th>\n",
       "      <td>A0A075B6H9</td>\n",
       "      <td>[[21, 119]]</td>\n",
       "      <td>119</td>\n",
       "    </tr>\n",
       "    <tr>\n",
       "      <th>3</th>\n",
       "      <td>A0A075B6I3</td>\n",
       "      <td>[[20, 122]]</td>\n",
       "      <td>123</td>\n",
       "    </tr>\n",
       "    <tr>\n",
       "      <th>4</th>\n",
       "      <td>A0A075B6I6</td>\n",
       "      <td>[[21, 117]]</td>\n",
       "      <td>118</td>\n",
       "    </tr>\n",
       "    <tr>\n",
       "      <th>...</th>\n",
       "      <td>...</td>\n",
       "      <td>...</td>\n",
       "      <td>...</td>\n",
       "    </tr>\n",
       "    <tr>\n",
       "      <th>7881</th>\n",
       "      <td>Q9Y6X9</td>\n",
       "      <td>[[1, 551]]</td>\n",
       "      <td>1032</td>\n",
       "    </tr>\n",
       "    <tr>\n",
       "      <th>7882</th>\n",
       "      <td>Q9Y6Y0</td>\n",
       "      <td>[[5, 129], [347, 642]]</td>\n",
       "      <td>642</td>\n",
       "    </tr>\n",
       "    <tr>\n",
       "      <th>7883</th>\n",
       "      <td>Q9Y6Y9</td>\n",
       "      <td>[[19, 158]]</td>\n",
       "      <td>160</td>\n",
       "    </tr>\n",
       "    <tr>\n",
       "      <th>7884</th>\n",
       "      <td>Q9Y6Z7</td>\n",
       "      <td>[[132, 275]]</td>\n",
       "      <td>277</td>\n",
       "    </tr>\n",
       "    <tr>\n",
       "      <th>7885</th>\n",
       "      <td>U3KPV4</td>\n",
       "      <td>[[62, 340]]</td>\n",
       "      <td>340</td>\n",
       "    </tr>\n",
       "  </tbody>\n",
       "</table>\n",
       "<p>7886 rows × 3 columns</p>\n",
       "</div>"
      ],
      "text/plain": [
       "           Entry                combined  uniprot_seq_length\n",
       "0     A0A075B6H7             [[21, 116]]                 116\n",
       "1     A0A075B6H8             [[19, 117]]                 117\n",
       "2     A0A075B6H9             [[21, 119]]                 119\n",
       "3     A0A075B6I3             [[20, 122]]                 123\n",
       "4     A0A075B6I6             [[21, 117]]                 118\n",
       "...          ...                     ...                 ...\n",
       "7881      Q9Y6X9              [[1, 551]]                1032\n",
       "7882      Q9Y6Y0  [[5, 129], [347, 642]]                 642\n",
       "7883      Q9Y6Y9             [[19, 158]]                 160\n",
       "7884      Q9Y6Z7            [[132, 275]]                 277\n",
       "7885      U3KPV4             [[62, 340]]                 340\n",
       "\n",
       "[7886 rows x 3 columns]"
      ]
     },
     "execution_count": 4,
     "metadata": {},
     "output_type": "execute_result"
    }
   ],
   "source": [
    "swissmodel_30aa_hq = swissmodel_30aa_hq.rename(columns={'UniProtKB_ac': 'Entry'})\n",
    "swissmodel_30aa_hq['combined'] = swissmodel_30aa_hq.apply(lambda x: list([x[\"from\"], x[\"to\"]]),axis=1)\n",
    "data_new1 = swissmodel_30aa_hq.groupby('Entry').combined.apply(list).reset_index() \n",
    "data_new2 = swissmodel_30aa_hq.groupby(['Entry'], as_index=False).agg({\"uniprot_seq_length\":\"first\"}) \n",
    "swissmodel_30aa_hq_cov = pd.merge(data_new1, data_new2, on=\"Entry\") \n",
    "swissmodel_30aa_hq_cov # 7886 proteins"
   ]
  },
  {
   "cell_type": "code",
   "execution_count": 5,
   "id": "4cdbf786-13b6-4855-bad7-b055bf06b8ea",
   "metadata": {},
   "outputs": [],
   "source": [
    "# calculate_coverage function comes from coverage_functions.py file\n",
    "swissmodel_30aa_hq_cov[\"Coverage\"] = swissmodel_30aa_hq_cov.apply(lambda x: calculate_coverage(begin_end = x[\"combined\"],\n",
    "                                                                                               prot_length = x[\"uniprot_seq_length\"]), axis=1)\n",
    "swissmodel_30aa_hq_cov.to_excel(\"processed_data/swissmodel/swissmodel_30aa_hq_cov.xlsx\", index=False)"
   ]
  },
  {
   "cell_type": "code",
   "execution_count": 6,
   "id": "4f767bf8-3111-452e-9375-927b5b15e35e",
   "metadata": {},
   "outputs": [
    {
     "data": {
      "text/plain": [
       "7886"
      ]
     },
     "execution_count": 6,
     "metadata": {},
     "output_type": "execute_result"
    }
   ],
   "source": [
    "# double checking\n",
    "swiss_res_cov = get_residue_coverage(swissmodel_30aa_hq, length='uniprot_seq_length', res_beg_end=['to', 'from'])\n",
    "len(swiss_res_cov)"
   ]
  }
 ],
 "metadata": {
  "kernelspec": {
   "display_name": "Python 3",
   "language": "python",
   "name": "python3"
  },
  "language_info": {
   "codemirror_mode": {
    "name": "ipython",
    "version": 3
   },
   "file_extension": ".py",
   "mimetype": "text/x-python",
   "name": "python",
   "nbconvert_exporter": "python",
   "pygments_lexer": "ipython3",
   "version": "3.8.8"
  }
 },
 "nbformat": 4,
 "nbformat_minor": 5
}
